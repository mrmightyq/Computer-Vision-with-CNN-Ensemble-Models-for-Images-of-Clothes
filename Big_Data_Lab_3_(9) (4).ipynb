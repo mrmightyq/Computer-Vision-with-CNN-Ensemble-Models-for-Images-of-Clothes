{
  "nbformat": 4,
  "nbformat_minor": 0,
  "metadata": {
    "colab": {
      "name": "Big Data Lab 3 (9).ipynb",
      "provenance": []
    },
    "kernelspec": {
      "display_name": "Python 3",
      "name": "python3"
    },
    "language_info": {
      "name": "python"
    },
    "widgets": {
      "application/vnd.jupyter.widget-state+json": {
        "09d5ceab39974f539963be7093f94815": {
          "model_module": "@jupyter-widgets/controls",
          "model_name": "HBoxModel",
          "model_module_version": "1.5.0",
          "state": {
            "_view_name": "HBoxView",
            "_dom_classes": [],
            "_model_name": "HBoxModel",
            "_view_module": "@jupyter-widgets/controls",
            "_model_module_version": "1.5.0",
            "_view_count": null,
            "_view_module_version": "1.5.0",
            "box_style": "",
            "layout": "IPY_MODEL_988764d30f514a8188013a5583fee55f",
            "_model_module": "@jupyter-widgets/controls",
            "children": [
              "IPY_MODEL_c8f8b81eb0a94034b1e1edba79588437",
              "IPY_MODEL_c688381366fb4d08937538c5992144c4",
              "IPY_MODEL_f31428f9a2184b1ca778022b9c1810bf"
            ]
          }
        },
        "988764d30f514a8188013a5583fee55f": {
          "model_module": "@jupyter-widgets/base",
          "model_name": "LayoutModel",
          "model_module_version": "1.2.0",
          "state": {
            "_view_name": "LayoutView",
            "grid_template_rows": null,
            "right": null,
            "justify_content": null,
            "_view_module": "@jupyter-widgets/base",
            "overflow": null,
            "_model_module_version": "1.2.0",
            "_view_count": null,
            "flex_flow": null,
            "width": null,
            "min_width": null,
            "border": null,
            "align_items": null,
            "bottom": null,
            "_model_module": "@jupyter-widgets/base",
            "top": null,
            "grid_column": null,
            "overflow_y": null,
            "overflow_x": null,
            "grid_auto_flow": null,
            "grid_area": null,
            "grid_template_columns": null,
            "flex": null,
            "_model_name": "LayoutModel",
            "justify_items": null,
            "grid_row": null,
            "max_height": null,
            "align_content": null,
            "visibility": null,
            "align_self": null,
            "height": null,
            "min_height": null,
            "padding": null,
            "grid_auto_rows": null,
            "grid_gap": null,
            "max_width": null,
            "order": null,
            "_view_module_version": "1.2.0",
            "grid_template_areas": null,
            "object_position": null,
            "object_fit": null,
            "grid_auto_columns": null,
            "margin": null,
            "display": null,
            "left": null
          }
        },
        "c8f8b81eb0a94034b1e1edba79588437": {
          "model_module": "@jupyter-widgets/controls",
          "model_name": "HTMLModel",
          "model_module_version": "1.5.0",
          "state": {
            "_view_name": "HTMLView",
            "style": "IPY_MODEL_8b25d75b639d439fa97a455e40663525",
            "_dom_classes": [],
            "description": "",
            "_model_name": "HTMLModel",
            "placeholder": "​",
            "_view_module": "@jupyter-widgets/controls",
            "_model_module_version": "1.5.0",
            "value": "",
            "_view_count": null,
            "_view_module_version": "1.5.0",
            "description_tooltip": null,
            "_model_module": "@jupyter-widgets/controls",
            "layout": "IPY_MODEL_f2ec9c3022a14a73b1afd028f335ad17"
          }
        },
        "c688381366fb4d08937538c5992144c4": {
          "model_module": "@jupyter-widgets/controls",
          "model_name": "FloatProgressModel",
          "model_module_version": "1.5.0",
          "state": {
            "_view_name": "ProgressView",
            "style": "IPY_MODEL_53c1de9a76cb47939af7c91c883c9e62",
            "_dom_classes": [],
            "description": "",
            "_model_name": "FloatProgressModel",
            "bar_style": "success",
            "max": 26421880,
            "_view_module": "@jupyter-widgets/controls",
            "_model_module_version": "1.5.0",
            "value": 26421880,
            "_view_count": null,
            "_view_module_version": "1.5.0",
            "orientation": "horizontal",
            "min": 0,
            "description_tooltip": null,
            "_model_module": "@jupyter-widgets/controls",
            "layout": "IPY_MODEL_cb57951849974b12818bbcbc777e7ed5"
          }
        },
        "f31428f9a2184b1ca778022b9c1810bf": {
          "model_module": "@jupyter-widgets/controls",
          "model_name": "HTMLModel",
          "model_module_version": "1.5.0",
          "state": {
            "_view_name": "HTMLView",
            "style": "IPY_MODEL_5d4a24a5e1824a72883bf780e2d15646",
            "_dom_classes": [],
            "description": "",
            "_model_name": "HTMLModel",
            "placeholder": "​",
            "_view_module": "@jupyter-widgets/controls",
            "_model_module_version": "1.5.0",
            "value": " 26422272/? [00:01&lt;00:00, 25929405.73it/s]",
            "_view_count": null,
            "_view_module_version": "1.5.0",
            "description_tooltip": null,
            "_model_module": "@jupyter-widgets/controls",
            "layout": "IPY_MODEL_7299497593b1465fb03a3318e25eba15"
          }
        },
        "8b25d75b639d439fa97a455e40663525": {
          "model_module": "@jupyter-widgets/controls",
          "model_name": "DescriptionStyleModel",
          "model_module_version": "1.5.0",
          "state": {
            "_view_name": "StyleView",
            "_model_name": "DescriptionStyleModel",
            "description_width": "",
            "_view_module": "@jupyter-widgets/base",
            "_model_module_version": "1.5.0",
            "_view_count": null,
            "_view_module_version": "1.2.0",
            "_model_module": "@jupyter-widgets/controls"
          }
        },
        "f2ec9c3022a14a73b1afd028f335ad17": {
          "model_module": "@jupyter-widgets/base",
          "model_name": "LayoutModel",
          "model_module_version": "1.2.0",
          "state": {
            "_view_name": "LayoutView",
            "grid_template_rows": null,
            "right": null,
            "justify_content": null,
            "_view_module": "@jupyter-widgets/base",
            "overflow": null,
            "_model_module_version": "1.2.0",
            "_view_count": null,
            "flex_flow": null,
            "width": null,
            "min_width": null,
            "border": null,
            "align_items": null,
            "bottom": null,
            "_model_module": "@jupyter-widgets/base",
            "top": null,
            "grid_column": null,
            "overflow_y": null,
            "overflow_x": null,
            "grid_auto_flow": null,
            "grid_area": null,
            "grid_template_columns": null,
            "flex": null,
            "_model_name": "LayoutModel",
            "justify_items": null,
            "grid_row": null,
            "max_height": null,
            "align_content": null,
            "visibility": null,
            "align_self": null,
            "height": null,
            "min_height": null,
            "padding": null,
            "grid_auto_rows": null,
            "grid_gap": null,
            "max_width": null,
            "order": null,
            "_view_module_version": "1.2.0",
            "grid_template_areas": null,
            "object_position": null,
            "object_fit": null,
            "grid_auto_columns": null,
            "margin": null,
            "display": null,
            "left": null
          }
        },
        "53c1de9a76cb47939af7c91c883c9e62": {
          "model_module": "@jupyter-widgets/controls",
          "model_name": "ProgressStyleModel",
          "model_module_version": "1.5.0",
          "state": {
            "_view_name": "StyleView",
            "_model_name": "ProgressStyleModel",
            "description_width": "",
            "_view_module": "@jupyter-widgets/base",
            "_model_module_version": "1.5.0",
            "_view_count": null,
            "_view_module_version": "1.2.0",
            "bar_color": null,
            "_model_module": "@jupyter-widgets/controls"
          }
        },
        "cb57951849974b12818bbcbc777e7ed5": {
          "model_module": "@jupyter-widgets/base",
          "model_name": "LayoutModel",
          "model_module_version": "1.2.0",
          "state": {
            "_view_name": "LayoutView",
            "grid_template_rows": null,
            "right": null,
            "justify_content": null,
            "_view_module": "@jupyter-widgets/base",
            "overflow": null,
            "_model_module_version": "1.2.0",
            "_view_count": null,
            "flex_flow": null,
            "width": null,
            "min_width": null,
            "border": null,
            "align_items": null,
            "bottom": null,
            "_model_module": "@jupyter-widgets/base",
            "top": null,
            "grid_column": null,
            "overflow_y": null,
            "overflow_x": null,
            "grid_auto_flow": null,
            "grid_area": null,
            "grid_template_columns": null,
            "flex": null,
            "_model_name": "LayoutModel",
            "justify_items": null,
            "grid_row": null,
            "max_height": null,
            "align_content": null,
            "visibility": null,
            "align_self": null,
            "height": null,
            "min_height": null,
            "padding": null,
            "grid_auto_rows": null,
            "grid_gap": null,
            "max_width": null,
            "order": null,
            "_view_module_version": "1.2.0",
            "grid_template_areas": null,
            "object_position": null,
            "object_fit": null,
            "grid_auto_columns": null,
            "margin": null,
            "display": null,
            "left": null
          }
        },
        "5d4a24a5e1824a72883bf780e2d15646": {
          "model_module": "@jupyter-widgets/controls",
          "model_name": "DescriptionStyleModel",
          "model_module_version": "1.5.0",
          "state": {
            "_view_name": "StyleView",
            "_model_name": "DescriptionStyleModel",
            "description_width": "",
            "_view_module": "@jupyter-widgets/base",
            "_model_module_version": "1.5.0",
            "_view_count": null,
            "_view_module_version": "1.2.0",
            "_model_module": "@jupyter-widgets/controls"
          }
        },
        "7299497593b1465fb03a3318e25eba15": {
          "model_module": "@jupyter-widgets/base",
          "model_name": "LayoutModel",
          "model_module_version": "1.2.0",
          "state": {
            "_view_name": "LayoutView",
            "grid_template_rows": null,
            "right": null,
            "justify_content": null,
            "_view_module": "@jupyter-widgets/base",
            "overflow": null,
            "_model_module_version": "1.2.0",
            "_view_count": null,
            "flex_flow": null,
            "width": null,
            "min_width": null,
            "border": null,
            "align_items": null,
            "bottom": null,
            "_model_module": "@jupyter-widgets/base",
            "top": null,
            "grid_column": null,
            "overflow_y": null,
            "overflow_x": null,
            "grid_auto_flow": null,
            "grid_area": null,
            "grid_template_columns": null,
            "flex": null,
            "_model_name": "LayoutModel",
            "justify_items": null,
            "grid_row": null,
            "max_height": null,
            "align_content": null,
            "visibility": null,
            "align_self": null,
            "height": null,
            "min_height": null,
            "padding": null,
            "grid_auto_rows": null,
            "grid_gap": null,
            "max_width": null,
            "order": null,
            "_view_module_version": "1.2.0",
            "grid_template_areas": null,
            "object_position": null,
            "object_fit": null,
            "grid_auto_columns": null,
            "margin": null,
            "display": null,
            "left": null
          }
        },
        "9c988f3c89e64b68b0f6fc6de1b35ab4": {
          "model_module": "@jupyter-widgets/controls",
          "model_name": "HBoxModel",
          "model_module_version": "1.5.0",
          "state": {
            "_view_name": "HBoxView",
            "_dom_classes": [],
            "_model_name": "HBoxModel",
            "_view_module": "@jupyter-widgets/controls",
            "_model_module_version": "1.5.0",
            "_view_count": null,
            "_view_module_version": "1.5.0",
            "box_style": "",
            "layout": "IPY_MODEL_73f5dcb2e65740e7afd55d0797457908",
            "_model_module": "@jupyter-widgets/controls",
            "children": [
              "IPY_MODEL_2aff7fb70c4d4654a86e4b481ed732f8",
              "IPY_MODEL_2d3a59c4e72e41a39aeb6857f8a8c6d4",
              "IPY_MODEL_b13750bf31d2448083033b10a774d64a"
            ]
          }
        },
        "73f5dcb2e65740e7afd55d0797457908": {
          "model_module": "@jupyter-widgets/base",
          "model_name": "LayoutModel",
          "model_module_version": "1.2.0",
          "state": {
            "_view_name": "LayoutView",
            "grid_template_rows": null,
            "right": null,
            "justify_content": null,
            "_view_module": "@jupyter-widgets/base",
            "overflow": null,
            "_model_module_version": "1.2.0",
            "_view_count": null,
            "flex_flow": null,
            "width": null,
            "min_width": null,
            "border": null,
            "align_items": null,
            "bottom": null,
            "_model_module": "@jupyter-widgets/base",
            "top": null,
            "grid_column": null,
            "overflow_y": null,
            "overflow_x": null,
            "grid_auto_flow": null,
            "grid_area": null,
            "grid_template_columns": null,
            "flex": null,
            "_model_name": "LayoutModel",
            "justify_items": null,
            "grid_row": null,
            "max_height": null,
            "align_content": null,
            "visibility": null,
            "align_self": null,
            "height": null,
            "min_height": null,
            "padding": null,
            "grid_auto_rows": null,
            "grid_gap": null,
            "max_width": null,
            "order": null,
            "_view_module_version": "1.2.0",
            "grid_template_areas": null,
            "object_position": null,
            "object_fit": null,
            "grid_auto_columns": null,
            "margin": null,
            "display": null,
            "left": null
          }
        },
        "2aff7fb70c4d4654a86e4b481ed732f8": {
          "model_module": "@jupyter-widgets/controls",
          "model_name": "HTMLModel",
          "model_module_version": "1.5.0",
          "state": {
            "_view_name": "HTMLView",
            "style": "IPY_MODEL_2763fa306ca74872b4724a20a14e98ef",
            "_dom_classes": [],
            "description": "",
            "_model_name": "HTMLModel",
            "placeholder": "​",
            "_view_module": "@jupyter-widgets/controls",
            "_model_module_version": "1.5.0",
            "value": "",
            "_view_count": null,
            "_view_module_version": "1.5.0",
            "description_tooltip": null,
            "_model_module": "@jupyter-widgets/controls",
            "layout": "IPY_MODEL_b6c2a87532ed4b32bd62bc699b56122e"
          }
        },
        "2d3a59c4e72e41a39aeb6857f8a8c6d4": {
          "model_module": "@jupyter-widgets/controls",
          "model_name": "FloatProgressModel",
          "model_module_version": "1.5.0",
          "state": {
            "_view_name": "ProgressView",
            "style": "IPY_MODEL_391053f9c23d4452b0e0b77216480cc5",
            "_dom_classes": [],
            "description": "",
            "_model_name": "FloatProgressModel",
            "bar_style": "success",
            "max": 29515,
            "_view_module": "@jupyter-widgets/controls",
            "_model_module_version": "1.5.0",
            "value": 29515,
            "_view_count": null,
            "_view_module_version": "1.5.0",
            "orientation": "horizontal",
            "min": 0,
            "description_tooltip": null,
            "_model_module": "@jupyter-widgets/controls",
            "layout": "IPY_MODEL_4235346f786e4ffb93f604c47be0f187"
          }
        },
        "b13750bf31d2448083033b10a774d64a": {
          "model_module": "@jupyter-widgets/controls",
          "model_name": "HTMLModel",
          "model_module_version": "1.5.0",
          "state": {
            "_view_name": "HTMLView",
            "style": "IPY_MODEL_ec7120046e054fc4890854db706bc5af",
            "_dom_classes": [],
            "description": "",
            "_model_name": "HTMLModel",
            "placeholder": "​",
            "_view_module": "@jupyter-widgets/controls",
            "_model_module_version": "1.5.0",
            "value": " 29696/? [00:00&lt;00:00, 340532.12it/s]",
            "_view_count": null,
            "_view_module_version": "1.5.0",
            "description_tooltip": null,
            "_model_module": "@jupyter-widgets/controls",
            "layout": "IPY_MODEL_028126f0dfe046018c90da88a6216cfd"
          }
        },
        "2763fa306ca74872b4724a20a14e98ef": {
          "model_module": "@jupyter-widgets/controls",
          "model_name": "DescriptionStyleModel",
          "model_module_version": "1.5.0",
          "state": {
            "_view_name": "StyleView",
            "_model_name": "DescriptionStyleModel",
            "description_width": "",
            "_view_module": "@jupyter-widgets/base",
            "_model_module_version": "1.5.0",
            "_view_count": null,
            "_view_module_version": "1.2.0",
            "_model_module": "@jupyter-widgets/controls"
          }
        },
        "b6c2a87532ed4b32bd62bc699b56122e": {
          "model_module": "@jupyter-widgets/base",
          "model_name": "LayoutModel",
          "model_module_version": "1.2.0",
          "state": {
            "_view_name": "LayoutView",
            "grid_template_rows": null,
            "right": null,
            "justify_content": null,
            "_view_module": "@jupyter-widgets/base",
            "overflow": null,
            "_model_module_version": "1.2.0",
            "_view_count": null,
            "flex_flow": null,
            "width": null,
            "min_width": null,
            "border": null,
            "align_items": null,
            "bottom": null,
            "_model_module": "@jupyter-widgets/base",
            "top": null,
            "grid_column": null,
            "overflow_y": null,
            "overflow_x": null,
            "grid_auto_flow": null,
            "grid_area": null,
            "grid_template_columns": null,
            "flex": null,
            "_model_name": "LayoutModel",
            "justify_items": null,
            "grid_row": null,
            "max_height": null,
            "align_content": null,
            "visibility": null,
            "align_self": null,
            "height": null,
            "min_height": null,
            "padding": null,
            "grid_auto_rows": null,
            "grid_gap": null,
            "max_width": null,
            "order": null,
            "_view_module_version": "1.2.0",
            "grid_template_areas": null,
            "object_position": null,
            "object_fit": null,
            "grid_auto_columns": null,
            "margin": null,
            "display": null,
            "left": null
          }
        },
        "391053f9c23d4452b0e0b77216480cc5": {
          "model_module": "@jupyter-widgets/controls",
          "model_name": "ProgressStyleModel",
          "model_module_version": "1.5.0",
          "state": {
            "_view_name": "StyleView",
            "_model_name": "ProgressStyleModel",
            "description_width": "",
            "_view_module": "@jupyter-widgets/base",
            "_model_module_version": "1.5.0",
            "_view_count": null,
            "_view_module_version": "1.2.0",
            "bar_color": null,
            "_model_module": "@jupyter-widgets/controls"
          }
        },
        "4235346f786e4ffb93f604c47be0f187": {
          "model_module": "@jupyter-widgets/base",
          "model_name": "LayoutModel",
          "model_module_version": "1.2.0",
          "state": {
            "_view_name": "LayoutView",
            "grid_template_rows": null,
            "right": null,
            "justify_content": null,
            "_view_module": "@jupyter-widgets/base",
            "overflow": null,
            "_model_module_version": "1.2.0",
            "_view_count": null,
            "flex_flow": null,
            "width": null,
            "min_width": null,
            "border": null,
            "align_items": null,
            "bottom": null,
            "_model_module": "@jupyter-widgets/base",
            "top": null,
            "grid_column": null,
            "overflow_y": null,
            "overflow_x": null,
            "grid_auto_flow": null,
            "grid_area": null,
            "grid_template_columns": null,
            "flex": null,
            "_model_name": "LayoutModel",
            "justify_items": null,
            "grid_row": null,
            "max_height": null,
            "align_content": null,
            "visibility": null,
            "align_self": null,
            "height": null,
            "min_height": null,
            "padding": null,
            "grid_auto_rows": null,
            "grid_gap": null,
            "max_width": null,
            "order": null,
            "_view_module_version": "1.2.0",
            "grid_template_areas": null,
            "object_position": null,
            "object_fit": null,
            "grid_auto_columns": null,
            "margin": null,
            "display": null,
            "left": null
          }
        },
        "ec7120046e054fc4890854db706bc5af": {
          "model_module": "@jupyter-widgets/controls",
          "model_name": "DescriptionStyleModel",
          "model_module_version": "1.5.0",
          "state": {
            "_view_name": "StyleView",
            "_model_name": "DescriptionStyleModel",
            "description_width": "",
            "_view_module": "@jupyter-widgets/base",
            "_model_module_version": "1.5.0",
            "_view_count": null,
            "_view_module_version": "1.2.0",
            "_model_module": "@jupyter-widgets/controls"
          }
        },
        "028126f0dfe046018c90da88a6216cfd": {
          "model_module": "@jupyter-widgets/base",
          "model_name": "LayoutModel",
          "model_module_version": "1.2.0",
          "state": {
            "_view_name": "LayoutView",
            "grid_template_rows": null,
            "right": null,
            "justify_content": null,
            "_view_module": "@jupyter-widgets/base",
            "overflow": null,
            "_model_module_version": "1.2.0",
            "_view_count": null,
            "flex_flow": null,
            "width": null,
            "min_width": null,
            "border": null,
            "align_items": null,
            "bottom": null,
            "_model_module": "@jupyter-widgets/base",
            "top": null,
            "grid_column": null,
            "overflow_y": null,
            "overflow_x": null,
            "grid_auto_flow": null,
            "grid_area": null,
            "grid_template_columns": null,
            "flex": null,
            "_model_name": "LayoutModel",
            "justify_items": null,
            "grid_row": null,
            "max_height": null,
            "align_content": null,
            "visibility": null,
            "align_self": null,
            "height": null,
            "min_height": null,
            "padding": null,
            "grid_auto_rows": null,
            "grid_gap": null,
            "max_width": null,
            "order": null,
            "_view_module_version": "1.2.0",
            "grid_template_areas": null,
            "object_position": null,
            "object_fit": null,
            "grid_auto_columns": null,
            "margin": null,
            "display": null,
            "left": null
          }
        },
        "12c8edb959a54928ba96649d90c23d83": {
          "model_module": "@jupyter-widgets/controls",
          "model_name": "HBoxModel",
          "model_module_version": "1.5.0",
          "state": {
            "_view_name": "HBoxView",
            "_dom_classes": [],
            "_model_name": "HBoxModel",
            "_view_module": "@jupyter-widgets/controls",
            "_model_module_version": "1.5.0",
            "_view_count": null,
            "_view_module_version": "1.5.0",
            "box_style": "",
            "layout": "IPY_MODEL_d2a8940a1c98456292723b44a490a7fd",
            "_model_module": "@jupyter-widgets/controls",
            "children": [
              "IPY_MODEL_a2238e9afeaf4762ae793b8039b05c57",
              "IPY_MODEL_4f243cb9a3ff40f6881b64853d2c5d93",
              "IPY_MODEL_26232063d1124d02ad6ecc6ec6907c2c"
            ]
          }
        },
        "d2a8940a1c98456292723b44a490a7fd": {
          "model_module": "@jupyter-widgets/base",
          "model_name": "LayoutModel",
          "model_module_version": "1.2.0",
          "state": {
            "_view_name": "LayoutView",
            "grid_template_rows": null,
            "right": null,
            "justify_content": null,
            "_view_module": "@jupyter-widgets/base",
            "overflow": null,
            "_model_module_version": "1.2.0",
            "_view_count": null,
            "flex_flow": null,
            "width": null,
            "min_width": null,
            "border": null,
            "align_items": null,
            "bottom": null,
            "_model_module": "@jupyter-widgets/base",
            "top": null,
            "grid_column": null,
            "overflow_y": null,
            "overflow_x": null,
            "grid_auto_flow": null,
            "grid_area": null,
            "grid_template_columns": null,
            "flex": null,
            "_model_name": "LayoutModel",
            "justify_items": null,
            "grid_row": null,
            "max_height": null,
            "align_content": null,
            "visibility": null,
            "align_self": null,
            "height": null,
            "min_height": null,
            "padding": null,
            "grid_auto_rows": null,
            "grid_gap": null,
            "max_width": null,
            "order": null,
            "_view_module_version": "1.2.0",
            "grid_template_areas": null,
            "object_position": null,
            "object_fit": null,
            "grid_auto_columns": null,
            "margin": null,
            "display": null,
            "left": null
          }
        },
        "a2238e9afeaf4762ae793b8039b05c57": {
          "model_module": "@jupyter-widgets/controls",
          "model_name": "HTMLModel",
          "model_module_version": "1.5.0",
          "state": {
            "_view_name": "HTMLView",
            "style": "IPY_MODEL_1fdc80ca0eee4c6fbbc45fa783f74f01",
            "_dom_classes": [],
            "description": "",
            "_model_name": "HTMLModel",
            "placeholder": "​",
            "_view_module": "@jupyter-widgets/controls",
            "_model_module_version": "1.5.0",
            "value": "",
            "_view_count": null,
            "_view_module_version": "1.5.0",
            "description_tooltip": null,
            "_model_module": "@jupyter-widgets/controls",
            "layout": "IPY_MODEL_7149b341587642cfa024250e4466a263"
          }
        },
        "4f243cb9a3ff40f6881b64853d2c5d93": {
          "model_module": "@jupyter-widgets/controls",
          "model_name": "FloatProgressModel",
          "model_module_version": "1.5.0",
          "state": {
            "_view_name": "ProgressView",
            "style": "IPY_MODEL_c20088f3c2114af2afb4e20bc8599fa2",
            "_dom_classes": [],
            "description": "",
            "_model_name": "FloatProgressModel",
            "bar_style": "success",
            "max": 4422102,
            "_view_module": "@jupyter-widgets/controls",
            "_model_module_version": "1.5.0",
            "value": 4422102,
            "_view_count": null,
            "_view_module_version": "1.5.0",
            "orientation": "horizontal",
            "min": 0,
            "description_tooltip": null,
            "_model_module": "@jupyter-widgets/controls",
            "layout": "IPY_MODEL_d18a655977934447886824ac2eb68032"
          }
        },
        "26232063d1124d02ad6ecc6ec6907c2c": {
          "model_module": "@jupyter-widgets/controls",
          "model_name": "HTMLModel",
          "model_module_version": "1.5.0",
          "state": {
            "_view_name": "HTMLView",
            "style": "IPY_MODEL_0a55e8dec77545c4bfaca8380b35ff30",
            "_dom_classes": [],
            "description": "",
            "_model_name": "HTMLModel",
            "placeholder": "​",
            "_view_module": "@jupyter-widgets/controls",
            "_model_module_version": "1.5.0",
            "value": " 4422656/? [00:00&lt;00:00, 6663506.51it/s]",
            "_view_count": null,
            "_view_module_version": "1.5.0",
            "description_tooltip": null,
            "_model_module": "@jupyter-widgets/controls",
            "layout": "IPY_MODEL_61962258e45a48b2910b19560759b30e"
          }
        },
        "1fdc80ca0eee4c6fbbc45fa783f74f01": {
          "model_module": "@jupyter-widgets/controls",
          "model_name": "DescriptionStyleModel",
          "model_module_version": "1.5.0",
          "state": {
            "_view_name": "StyleView",
            "_model_name": "DescriptionStyleModel",
            "description_width": "",
            "_view_module": "@jupyter-widgets/base",
            "_model_module_version": "1.5.0",
            "_view_count": null,
            "_view_module_version": "1.2.0",
            "_model_module": "@jupyter-widgets/controls"
          }
        },
        "7149b341587642cfa024250e4466a263": {
          "model_module": "@jupyter-widgets/base",
          "model_name": "LayoutModel",
          "model_module_version": "1.2.0",
          "state": {
            "_view_name": "LayoutView",
            "grid_template_rows": null,
            "right": null,
            "justify_content": null,
            "_view_module": "@jupyter-widgets/base",
            "overflow": null,
            "_model_module_version": "1.2.0",
            "_view_count": null,
            "flex_flow": null,
            "width": null,
            "min_width": null,
            "border": null,
            "align_items": null,
            "bottom": null,
            "_model_module": "@jupyter-widgets/base",
            "top": null,
            "grid_column": null,
            "overflow_y": null,
            "overflow_x": null,
            "grid_auto_flow": null,
            "grid_area": null,
            "grid_template_columns": null,
            "flex": null,
            "_model_name": "LayoutModel",
            "justify_items": null,
            "grid_row": null,
            "max_height": null,
            "align_content": null,
            "visibility": null,
            "align_self": null,
            "height": null,
            "min_height": null,
            "padding": null,
            "grid_auto_rows": null,
            "grid_gap": null,
            "max_width": null,
            "order": null,
            "_view_module_version": "1.2.0",
            "grid_template_areas": null,
            "object_position": null,
            "object_fit": null,
            "grid_auto_columns": null,
            "margin": null,
            "display": null,
            "left": null
          }
        },
        "c20088f3c2114af2afb4e20bc8599fa2": {
          "model_module": "@jupyter-widgets/controls",
          "model_name": "ProgressStyleModel",
          "model_module_version": "1.5.0",
          "state": {
            "_view_name": "StyleView",
            "_model_name": "ProgressStyleModel",
            "description_width": "",
            "_view_module": "@jupyter-widgets/base",
            "_model_module_version": "1.5.0",
            "_view_count": null,
            "_view_module_version": "1.2.0",
            "bar_color": null,
            "_model_module": "@jupyter-widgets/controls"
          }
        },
        "d18a655977934447886824ac2eb68032": {
          "model_module": "@jupyter-widgets/base",
          "model_name": "LayoutModel",
          "model_module_version": "1.2.0",
          "state": {
            "_view_name": "LayoutView",
            "grid_template_rows": null,
            "right": null,
            "justify_content": null,
            "_view_module": "@jupyter-widgets/base",
            "overflow": null,
            "_model_module_version": "1.2.0",
            "_view_count": null,
            "flex_flow": null,
            "width": null,
            "min_width": null,
            "border": null,
            "align_items": null,
            "bottom": null,
            "_model_module": "@jupyter-widgets/base",
            "top": null,
            "grid_column": null,
            "overflow_y": null,
            "overflow_x": null,
            "grid_auto_flow": null,
            "grid_area": null,
            "grid_template_columns": null,
            "flex": null,
            "_model_name": "LayoutModel",
            "justify_items": null,
            "grid_row": null,
            "max_height": null,
            "align_content": null,
            "visibility": null,
            "align_self": null,
            "height": null,
            "min_height": null,
            "padding": null,
            "grid_auto_rows": null,
            "grid_gap": null,
            "max_width": null,
            "order": null,
            "_view_module_version": "1.2.0",
            "grid_template_areas": null,
            "object_position": null,
            "object_fit": null,
            "grid_auto_columns": null,
            "margin": null,
            "display": null,
            "left": null
          }
        },
        "0a55e8dec77545c4bfaca8380b35ff30": {
          "model_module": "@jupyter-widgets/controls",
          "model_name": "DescriptionStyleModel",
          "model_module_version": "1.5.0",
          "state": {
            "_view_name": "StyleView",
            "_model_name": "DescriptionStyleModel",
            "description_width": "",
            "_view_module": "@jupyter-widgets/base",
            "_model_module_version": "1.5.0",
            "_view_count": null,
            "_view_module_version": "1.2.0",
            "_model_module": "@jupyter-widgets/controls"
          }
        },
        "61962258e45a48b2910b19560759b30e": {
          "model_module": "@jupyter-widgets/base",
          "model_name": "LayoutModel",
          "model_module_version": "1.2.0",
          "state": {
            "_view_name": "LayoutView",
            "grid_template_rows": null,
            "right": null,
            "justify_content": null,
            "_view_module": "@jupyter-widgets/base",
            "overflow": null,
            "_model_module_version": "1.2.0",
            "_view_count": null,
            "flex_flow": null,
            "width": null,
            "min_width": null,
            "border": null,
            "align_items": null,
            "bottom": null,
            "_model_module": "@jupyter-widgets/base",
            "top": null,
            "grid_column": null,
            "overflow_y": null,
            "overflow_x": null,
            "grid_auto_flow": null,
            "grid_area": null,
            "grid_template_columns": null,
            "flex": null,
            "_model_name": "LayoutModel",
            "justify_items": null,
            "grid_row": null,
            "max_height": null,
            "align_content": null,
            "visibility": null,
            "align_self": null,
            "height": null,
            "min_height": null,
            "padding": null,
            "grid_auto_rows": null,
            "grid_gap": null,
            "max_width": null,
            "order": null,
            "_view_module_version": "1.2.0",
            "grid_template_areas": null,
            "object_position": null,
            "object_fit": null,
            "grid_auto_columns": null,
            "margin": null,
            "display": null,
            "left": null
          }
        },
        "de5f0a4a5507476bb417a808463b762c": {
          "model_module": "@jupyter-widgets/controls",
          "model_name": "HBoxModel",
          "model_module_version": "1.5.0",
          "state": {
            "_view_name": "HBoxView",
            "_dom_classes": [],
            "_model_name": "HBoxModel",
            "_view_module": "@jupyter-widgets/controls",
            "_model_module_version": "1.5.0",
            "_view_count": null,
            "_view_module_version": "1.5.0",
            "box_style": "",
            "layout": "IPY_MODEL_a5ea787ea2d442d19047ab8428b1cb67",
            "_model_module": "@jupyter-widgets/controls",
            "children": [
              "IPY_MODEL_b6c99de3c7974f1887ea3f7498e16e1e",
              "IPY_MODEL_ce9796ac60864416a6947f7eeb268328",
              "IPY_MODEL_3a4e6d3e45914f5b9609306558b499b1"
            ]
          }
        },
        "a5ea787ea2d442d19047ab8428b1cb67": {
          "model_module": "@jupyter-widgets/base",
          "model_name": "LayoutModel",
          "model_module_version": "1.2.0",
          "state": {
            "_view_name": "LayoutView",
            "grid_template_rows": null,
            "right": null,
            "justify_content": null,
            "_view_module": "@jupyter-widgets/base",
            "overflow": null,
            "_model_module_version": "1.2.0",
            "_view_count": null,
            "flex_flow": null,
            "width": null,
            "min_width": null,
            "border": null,
            "align_items": null,
            "bottom": null,
            "_model_module": "@jupyter-widgets/base",
            "top": null,
            "grid_column": null,
            "overflow_y": null,
            "overflow_x": null,
            "grid_auto_flow": null,
            "grid_area": null,
            "grid_template_columns": null,
            "flex": null,
            "_model_name": "LayoutModel",
            "justify_items": null,
            "grid_row": null,
            "max_height": null,
            "align_content": null,
            "visibility": null,
            "align_self": null,
            "height": null,
            "min_height": null,
            "padding": null,
            "grid_auto_rows": null,
            "grid_gap": null,
            "max_width": null,
            "order": null,
            "_view_module_version": "1.2.0",
            "grid_template_areas": null,
            "object_position": null,
            "object_fit": null,
            "grid_auto_columns": null,
            "margin": null,
            "display": null,
            "left": null
          }
        },
        "b6c99de3c7974f1887ea3f7498e16e1e": {
          "model_module": "@jupyter-widgets/controls",
          "model_name": "HTMLModel",
          "model_module_version": "1.5.0",
          "state": {
            "_view_name": "HTMLView",
            "style": "IPY_MODEL_4f030e99aaf847668ba7444b909ca622",
            "_dom_classes": [],
            "description": "",
            "_model_name": "HTMLModel",
            "placeholder": "​",
            "_view_module": "@jupyter-widgets/controls",
            "_model_module_version": "1.5.0",
            "value": "",
            "_view_count": null,
            "_view_module_version": "1.5.0",
            "description_tooltip": null,
            "_model_module": "@jupyter-widgets/controls",
            "layout": "IPY_MODEL_7c7cd5e3ae1a4474b1fa91179233e97b"
          }
        },
        "ce9796ac60864416a6947f7eeb268328": {
          "model_module": "@jupyter-widgets/controls",
          "model_name": "FloatProgressModel",
          "model_module_version": "1.5.0",
          "state": {
            "_view_name": "ProgressView",
            "style": "IPY_MODEL_0c8b3f733b8c483698ebb4e15812582e",
            "_dom_classes": [],
            "description": "",
            "_model_name": "FloatProgressModel",
            "bar_style": "success",
            "max": 5148,
            "_view_module": "@jupyter-widgets/controls",
            "_model_module_version": "1.5.0",
            "value": 5148,
            "_view_count": null,
            "_view_module_version": "1.5.0",
            "orientation": "horizontal",
            "min": 0,
            "description_tooltip": null,
            "_model_module": "@jupyter-widgets/controls",
            "layout": "IPY_MODEL_00d3d5a52fd441428b1508d40454b904"
          }
        },
        "3a4e6d3e45914f5b9609306558b499b1": {
          "model_module": "@jupyter-widgets/controls",
          "model_name": "HTMLModel",
          "model_module_version": "1.5.0",
          "state": {
            "_view_name": "HTMLView",
            "style": "IPY_MODEL_4843256093074cbb879ca1e546baf367",
            "_dom_classes": [],
            "description": "",
            "_model_name": "HTMLModel",
            "placeholder": "​",
            "_view_module": "@jupyter-widgets/controls",
            "_model_module_version": "1.5.0",
            "value": " 6144/? [00:00&lt;00:00, 115192.90it/s]",
            "_view_count": null,
            "_view_module_version": "1.5.0",
            "description_tooltip": null,
            "_model_module": "@jupyter-widgets/controls",
            "layout": "IPY_MODEL_c4f407b46ba34af88ddb07cab94b4f7b"
          }
        },
        "4f030e99aaf847668ba7444b909ca622": {
          "model_module": "@jupyter-widgets/controls",
          "model_name": "DescriptionStyleModel",
          "model_module_version": "1.5.0",
          "state": {
            "_view_name": "StyleView",
            "_model_name": "DescriptionStyleModel",
            "description_width": "",
            "_view_module": "@jupyter-widgets/base",
            "_model_module_version": "1.5.0",
            "_view_count": null,
            "_view_module_version": "1.2.0",
            "_model_module": "@jupyter-widgets/controls"
          }
        },
        "7c7cd5e3ae1a4474b1fa91179233e97b": {
          "model_module": "@jupyter-widgets/base",
          "model_name": "LayoutModel",
          "model_module_version": "1.2.0",
          "state": {
            "_view_name": "LayoutView",
            "grid_template_rows": null,
            "right": null,
            "justify_content": null,
            "_view_module": "@jupyter-widgets/base",
            "overflow": null,
            "_model_module_version": "1.2.0",
            "_view_count": null,
            "flex_flow": null,
            "width": null,
            "min_width": null,
            "border": null,
            "align_items": null,
            "bottom": null,
            "_model_module": "@jupyter-widgets/base",
            "top": null,
            "grid_column": null,
            "overflow_y": null,
            "overflow_x": null,
            "grid_auto_flow": null,
            "grid_area": null,
            "grid_template_columns": null,
            "flex": null,
            "_model_name": "LayoutModel",
            "justify_items": null,
            "grid_row": null,
            "max_height": null,
            "align_content": null,
            "visibility": null,
            "align_self": null,
            "height": null,
            "min_height": null,
            "padding": null,
            "grid_auto_rows": null,
            "grid_gap": null,
            "max_width": null,
            "order": null,
            "_view_module_version": "1.2.0",
            "grid_template_areas": null,
            "object_position": null,
            "object_fit": null,
            "grid_auto_columns": null,
            "margin": null,
            "display": null,
            "left": null
          }
        },
        "0c8b3f733b8c483698ebb4e15812582e": {
          "model_module": "@jupyter-widgets/controls",
          "model_name": "ProgressStyleModel",
          "model_module_version": "1.5.0",
          "state": {
            "_view_name": "StyleView",
            "_model_name": "ProgressStyleModel",
            "description_width": "",
            "_view_module": "@jupyter-widgets/base",
            "_model_module_version": "1.5.0",
            "_view_count": null,
            "_view_module_version": "1.2.0",
            "bar_color": null,
            "_model_module": "@jupyter-widgets/controls"
          }
        },
        "00d3d5a52fd441428b1508d40454b904": {
          "model_module": "@jupyter-widgets/base",
          "model_name": "LayoutModel",
          "model_module_version": "1.2.0",
          "state": {
            "_view_name": "LayoutView",
            "grid_template_rows": null,
            "right": null,
            "justify_content": null,
            "_view_module": "@jupyter-widgets/base",
            "overflow": null,
            "_model_module_version": "1.2.0",
            "_view_count": null,
            "flex_flow": null,
            "width": null,
            "min_width": null,
            "border": null,
            "align_items": null,
            "bottom": null,
            "_model_module": "@jupyter-widgets/base",
            "top": null,
            "grid_column": null,
            "overflow_y": null,
            "overflow_x": null,
            "grid_auto_flow": null,
            "grid_area": null,
            "grid_template_columns": null,
            "flex": null,
            "_model_name": "LayoutModel",
            "justify_items": null,
            "grid_row": null,
            "max_height": null,
            "align_content": null,
            "visibility": null,
            "align_self": null,
            "height": null,
            "min_height": null,
            "padding": null,
            "grid_auto_rows": null,
            "grid_gap": null,
            "max_width": null,
            "order": null,
            "_view_module_version": "1.2.0",
            "grid_template_areas": null,
            "object_position": null,
            "object_fit": null,
            "grid_auto_columns": null,
            "margin": null,
            "display": null,
            "left": null
          }
        },
        "4843256093074cbb879ca1e546baf367": {
          "model_module": "@jupyter-widgets/controls",
          "model_name": "DescriptionStyleModel",
          "model_module_version": "1.5.0",
          "state": {
            "_view_name": "StyleView",
            "_model_name": "DescriptionStyleModel",
            "description_width": "",
            "_view_module": "@jupyter-widgets/base",
            "_model_module_version": "1.5.0",
            "_view_count": null,
            "_view_module_version": "1.2.0",
            "_model_module": "@jupyter-widgets/controls"
          }
        },
        "c4f407b46ba34af88ddb07cab94b4f7b": {
          "model_module": "@jupyter-widgets/base",
          "model_name": "LayoutModel",
          "model_module_version": "1.2.0",
          "state": {
            "_view_name": "LayoutView",
            "grid_template_rows": null,
            "right": null,
            "justify_content": null,
            "_view_module": "@jupyter-widgets/base",
            "overflow": null,
            "_model_module_version": "1.2.0",
            "_view_count": null,
            "flex_flow": null,
            "width": null,
            "min_width": null,
            "border": null,
            "align_items": null,
            "bottom": null,
            "_model_module": "@jupyter-widgets/base",
            "top": null,
            "grid_column": null,
            "overflow_y": null,
            "overflow_x": null,
            "grid_auto_flow": null,
            "grid_area": null,
            "grid_template_columns": null,
            "flex": null,
            "_model_name": "LayoutModel",
            "justify_items": null,
            "grid_row": null,
            "max_height": null,
            "align_content": null,
            "visibility": null,
            "align_self": null,
            "height": null,
            "min_height": null,
            "padding": null,
            "grid_auto_rows": null,
            "grid_gap": null,
            "max_width": null,
            "order": null,
            "_view_module_version": "1.2.0",
            "grid_template_areas": null,
            "object_position": null,
            "object_fit": null,
            "grid_auto_columns": null,
            "margin": null,
            "display": null,
            "left": null
          }
        }
      }
    }
  },
  "cells": [
    {
      "cell_type": "code",
      "metadata": {
        "id": "V8R9BBV3fQZb",
        "colab": {
          "base_uri": "https://localhost:8080/"
        },
        "outputId": "e83ecaab-6bd4-4e2e-b413-87786258cb55"
      },
      "source": [
        "from tensorflow.keras import datasets             # keras MNIST datasets\n",
        "\n",
        "from sklearn.metrics import confusion_matrix      # prediction verification\n",
        "import matplotlib.pyplot as plt                   # plotting\n",
        "import numpy as np                                # numpy functions\n",
        "import seaborn as sns; sns.set()                  # heatmap\n",
        "from sklearn.metrics import classification_report # print classification accuracy\n",
        "from tensorflow.keras.utils import to_categorical # convert data to categorical\n",
        "from tensorflow.keras import layers               # Neural Network layers\n",
        "\n",
        "from tensorflow.keras import Sequential           # Neural Network\n",
        "from keras.callbacks import ModelCheckpoint       # Neural Network callback\n",
        "from sklearn.naive_bayes import GaussianNB        # Gaussian Naive Bayes\n",
        "from sklearn.ensemble import RandomForestClassifier  # Random Forest \n",
        "from pandas.plotting import scatter_matrix  # scatter plot matrix\n",
        "from pandas import Series\n",
        "import numpy as np  # arrays and math functions\n",
        "from scipy.stats import uniform  # for training-and-test split\n",
        "import statsmodels.api as sm  # statistical models (including regression)\n",
        "import statsmodels.formula.api as smf  # R-like model specification\n",
        "from sklearn.ensemble import RandomForestClassifier # ensemble method\n",
        "from matplotlib import pyplot"
      ],
      "execution_count": 1,
      "outputs": [
        {
          "output_type": "stream",
          "name": "stderr",
          "text": [
            "/usr/local/lib/python3.7/dist-packages/statsmodels/tools/_testing.py:19: FutureWarning: pandas.util.testing is deprecated. Use the functions in the public API at pandas.testing instead.\n",
            "  import pandas.util.testing as tm\n"
          ]
        }
      ]
    },
    {
      "cell_type": "code",
      "metadata": {
        "id": "I4dyh7E1hmdi"
      },
      "source": [
        "# Load data from tenserflow keras\n",
        "(x_train, y_train), (x_test, y_test) = datasets.fashion_mnist.load_data()\n",
        "\n",
        "# Label names according to label reference\n",
        "label_name = ['t-shirt/top', 'trouser', 'pullover', 'dress', 'coat',\n",
        "              'sandal', 'shirt', 'sneaker', 'bag', 'ankle-boot']"
      ],
      "execution_count": 17,
      "outputs": []
    },
    {
      "cell_type": "code",
      "metadata": {
        "id": "x38uFJQdnyJi"
      },
      "source": [
        "# Set the random seed\n",
        "random_seed = 2"
      ],
      "execution_count": 6,
      "outputs": []
    },
    {
      "cell_type": "code",
      "metadata": {
        "id": "4J8AiwaNhpm9"
      },
      "source": [
        "x_train = x_train.astype('float32') / 255\n",
        "x_test = x_test.astype('float32') / 255"
      ],
      "execution_count": 7,
      "outputs": []
    },
    {
      "cell_type": "code",
      "metadata": {
        "id": "3QP55debns2_"
      },
      "source": [
        "# Split the train and the validation set for the fitting\n",
        "from sklearn.model_selection import train_test_split\n",
        "X_train, X_test, Y_train, Y_test = train_test_split(x_train, y_train, test_size = 0.1, random_state=random_seed)"
      ],
      "execution_count": 8,
      "outputs": []
    },
    {
      "cell_type": "code",
      "metadata": {
        "colab": {
          "base_uri": "https://localhost:8080/",
          "height": 290
        },
        "id": "4gFpgX2-hrW_",
        "outputId": "98946820-c868-483f-89e6-f47e7169f790"
      },
      "source": [
        "fig, ax = plt.subplots(3, 5)\n",
        "fig.tight_layout()\n",
        "for i, axi in enumerate(ax.flat):\n",
        "  axi.imshow(x_train[i])\n",
        "  axi.set_title(label_name[y_train[i]])\n",
        "plt.show()"
      ],
      "execution_count": null,
      "outputs": [
        {
          "data": {
            "image/png": "[encoded data removed]",
            "text/plain": [
              "<Figure size 432x288 with 15 Axes>"
            ]
          },
          "metadata": {},
          "output_type": "display_data"
        }
      ]
    },
    {
      "cell_type": "code",
      "metadata": {
        "colab": {
          "base_uri": "https://localhost:8080/",
          "height": 268
        },
        "id": "BBO-KwNx6vB-",
        "outputId": "bbc69cc4-6a88-43ca-90d0-741fe9f4a26e"
      },
      "source": [
        "g = sns.countplot(Y_train)"
      ],
      "execution_count": null,
      "outputs": [
        {
          "data": {
            "image/png": "[encoded data removed]",
            "text/plain": [
              "<Figure size 432x288 with 1 Axes>"
            ]
          },
          "metadata": {},
          "output_type": "display_data"
        }
      ]
    },
    {
      "cell_type": "code",
      "metadata": {
        "colab": {
          "base_uri": "https://localhost:8080/"
        },
        "id": "Qz-IEmM6htux",
        "outputId": "2c6054cb-9953-4f23-b6a8-c366303efb12"
      },
      "source": [
        "# Reshape input data to naive bayes algorithm\n",
        "w, h = 28, 28\n",
        "gnb_x_train = x_train.reshape(x_train.shape[0], w*h)\n",
        "gnb_x_test = x_test.reshape(x_test.shape[0], w*h)\n",
        "\n",
        "gnb_model = GaussianNB()\n",
        "%time gnb_model.fit(gnb_x_train, y_train)"
      ],
      "execution_count": null,
      "outputs": [
        {
          "name": "stdout",
          "output_type": "stream",
          "text": [
            "CPU times: user 326 ms, sys: 53.2 ms, total: 379 ms\n",
            "Wall time: 384 ms\n"
          ]
        },
        {
          "data": {
            "text/plain": [
              "GaussianNB(priors=None, var_smoothing=1e-09)"
            ]
          },
          "execution_count": 100,
          "metadata": {},
          "output_type": "execute_result"
        }
      ]
    },
    {
      "cell_type": "code",
      "metadata": {
        "id": "lRPRhk_xhwoK"
      },
      "source": [
        "gnb_y_fit = gnb_model.predict(gnb_x_test)"
      ],
      "execution_count": null,
      "outputs": []
    },
    {
      "cell_type": "code",
      "metadata": {
        "colab": {
          "base_uri": "https://localhost:8080/"
        },
        "id": "lOYf9Sc5h0cM",
        "outputId": "78615e20-b072-449f-d868-c6177eec3bd2"
      },
      "source": [
        "print(classification_report(y_test, gnb_y_fit, target_names=label_name))"
      ],
      "execution_count": null,
      "outputs": [
        {
          "name": "stdout",
          "output_type": "stream",
          "text": [
            "              precision    recall  f1-score   support\n",
            "\n",
            " t-shirt/top       0.81      0.59      0.68      1000\n",
            "     trouser       0.64      0.94      0.76      1000\n",
            "    pullover       0.59      0.32      0.42      1000\n",
            "       dress       0.44      0.55      0.49      1000\n",
            "        coat       0.38      0.78      0.51      1000\n",
            "      sandal       0.93      0.28      0.43      1000\n",
            "       shirt       0.32      0.04      0.07      1000\n",
            "     sneaker       0.51      0.99      0.67      1000\n",
            "         bag       0.83      0.71      0.77      1000\n",
            "  ankle-boot       0.91      0.67      0.77      1000\n",
            "\n",
            "    accuracy                           0.59     10000\n",
            "   macro avg       0.64      0.59      0.56     10000\n",
            "weighted avg       0.64      0.59      0.56     10000\n",
            "\n"
          ]
        }
      ]
    },
    {
      "cell_type": "code",
      "metadata": {
        "colab": {
          "base_uri": "https://localhost:8080/",
          "height": 625
        },
        "id": "JdG5dyWAh3Sa",
        "outputId": "e69b6e6c-5c6b-4052-9f02-8e38fd619b64"
      },
      "source": [
        "mat = confusion_matrix(y_test, gnb_y_fit)\n",
        "plt.figure(figsize=(10, 16))\n",
        "sns.heatmap(mat.T, square=True, annot=True, fmt='d', cbar=False,\n",
        "            xticklabels=label_name,\n",
        "            yticklabels=label_name)\n",
        "plt.xlabel('true label')\n",
        "plt.ylabel('predicted label');"
      ],
      "execution_count": null,
      "outputs": [
        {
          "data": {
            "image/png": "[encoded data removed]",
            "text/plain": [
              "<Figure size 720x1152 with 1 Axes>"
            ]
          },
          "metadata": {},
          "output_type": "display_data"
        }
      ]
    },
    {
      "cell_type": "markdown",
      "metadata": {
        "id": "zFXo-n3Mh7vj"
      },
      "source": [
        "# Neural Network"
      ]
    },
    {
      "cell_type": "code",
      "metadata": {
        "id": "Z9txTkKKh9dK"
      },
      "source": [
        "# Reshape input data to fit neural network algorithm\n",
        "w, h = 28, 28\n",
        "nn_x_train = x_train.reshape(x_train.shape[0], w, h, 1)\n",
        "nn_x_test = x_test.reshape(x_test.shape[0], w, h, 1)\n",
        "nn_y_train = to_categorical(y_train, 10)"
      ],
      "execution_count": 9,
      "outputs": []
    },
    {
      "cell_type": "code",
      "metadata": {
        "colab": {
          "base_uri": "https://localhost:8080/"
        },
        "id": "_LpHmFLTh_sj",
        "outputId": "d81a49c2-f37f-474c-dedf-b62f1a877d29"
      },
      "source": [
        "nn_model = Sequential()\n",
        "\n",
        "# Must define the input shape in the first layer of the neural network\n",
        "nn_model.add(layers.Conv2D(filters=64, kernel_size=2, padding='same', activation='relu', input_shape=(28,28,1))) \n",
        "nn_model.add(layers.MaxPooling2D(pool_size=2))\n",
        "nn_model.add(layers.Dropout(0.3))\n",
        "\n",
        "nn_model.add(layers.Conv2D(filters=32, kernel_size=2, padding='same', activation='relu'))\n",
        "nn_model.add(layers.MaxPooling2D(pool_size=2))\n",
        "nn_model.add(layers.Dropout(0.3))\n",
        "\n",
        "nn_model.add(layers.Flatten())\n",
        "nn_model.add(layers.Dense(256, activation='relu'))\n",
        "nn_model.add(layers.Dropout(0.5))\n",
        "nn_model.add(layers.Dense(10, activation='softmax'))\n",
        "\n",
        "nn_model.compile(loss='categorical_crossentropy', optimizer='adam', metrics=['accuracy'])\n",
        "\n",
        "checkpointer = ModelCheckpoint(filepath='model.weights.best.hdf5', verbose = 1, save_best_only=True)\n",
        "%time nn_model.fit(nn_x_train, nn_y_train, batch_size=64, epochs=20, callbacks=[checkpointer])"
      ],
      "execution_count": 39,
      "outputs": [
        {
          "output_type": "stream",
          "name": "stdout",
          "text": [
            "Epoch 1/20\n",
            "938/938 [==============================] - 75s 80ms/step - loss: 0.5920 - accuracy: 0.7825\n",
            "WARNING:tensorflow:Can save best model only with val_loss available, skipping.\n",
            "Epoch 2/20\n",
            "938/938 [==============================] - 75s 80ms/step - loss: 0.4099 - accuracy: 0.8516\n",
            "WARNING:tensorflow:Can save best model only with val_loss available, skipping.\n",
            "Epoch 3/20\n",
            "938/938 [==============================] - 75s 80ms/step - loss: 0.3674 - accuracy: 0.8669\n",
            "WARNING:tensorflow:Can save best model only with val_loss available, skipping.\n",
            "Epoch 4/20\n",
            "938/938 [==============================] - 74s 79ms/step - loss: 0.3366 - accuracy: 0.8777\n",
            "WARNING:tensorflow:Can save best model only with val_loss available, skipping.\n",
            "Epoch 5/20\n",
            "938/938 [==============================] - 75s 80ms/step - loss: 0.3188 - accuracy: 0.8821\n",
            "WARNING:tensorflow:Can save best model only with val_loss available, skipping.\n",
            "Epoch 6/20\n",
            "938/938 [==============================] - 75s 80ms/step - loss: 0.3054 - accuracy: 0.8885\n",
            "WARNING:tensorflow:Can save best model only with val_loss available, skipping.\n",
            "Epoch 7/20\n",
            "938/938 [==============================] - 74s 78ms/step - loss: 0.2928 - accuracy: 0.8927\n",
            "WARNING:tensorflow:Can save best model only with val_loss available, skipping.\n",
            "Epoch 8/20\n",
            "938/938 [==============================] - 73s 78ms/step - loss: 0.2827 - accuracy: 0.8954\n",
            "WARNING:tensorflow:Can save best model only with val_loss available, skipping.\n",
            "Epoch 9/20\n",
            "938/938 [==============================] - 74s 79ms/step - loss: 0.2723 - accuracy: 0.8999\n",
            "WARNING:tensorflow:Can save best model only with val_loss available, skipping.\n",
            "Epoch 10/20\n",
            "938/938 [==============================] - 74s 79ms/step - loss: 0.2658 - accuracy: 0.9023\n",
            "WARNING:tensorflow:Can save best model only with val_loss available, skipping.\n",
            "Epoch 11/20\n",
            "938/938 [==============================] - 74s 79ms/step - loss: 0.2578 - accuracy: 0.9050\n",
            "WARNING:tensorflow:Can save best model only with val_loss available, skipping.\n",
            "Epoch 12/20\n",
            "938/938 [==============================] - 74s 79ms/step - loss: 0.2535 - accuracy: 0.9062\n",
            "WARNING:tensorflow:Can save best model only with val_loss available, skipping.\n",
            "Epoch 13/20\n",
            "938/938 [==============================] - 74s 79ms/step - loss: 0.2482 - accuracy: 0.9076\n",
            "WARNING:tensorflow:Can save best model only with val_loss available, skipping.\n",
            "Epoch 14/20\n",
            "938/938 [==============================] - 74s 79ms/step - loss: 0.2408 - accuracy: 0.9103\n",
            "WARNING:tensorflow:Can save best model only with val_loss available, skipping.\n",
            "Epoch 15/20\n",
            "938/938 [==============================] - 75s 79ms/step - loss: 0.2382 - accuracy: 0.9117\n",
            "WARNING:tensorflow:Can save best model only with val_loss available, skipping.\n",
            "Epoch 16/20\n",
            "938/938 [==============================] - 75s 80ms/step - loss: 0.2325 - accuracy: 0.9156\n",
            "WARNING:tensorflow:Can save best model only with val_loss available, skipping.\n",
            "Epoch 17/20\n",
            "938/938 [==============================] - 74s 79ms/step - loss: 0.2312 - accuracy: 0.9135\n",
            "WARNING:tensorflow:Can save best model only with val_loss available, skipping.\n",
            "Epoch 18/20\n",
            "938/938 [==============================] - 74s 79ms/step - loss: 0.2256 - accuracy: 0.9158\n",
            "WARNING:tensorflow:Can save best model only with val_loss available, skipping.\n",
            "Epoch 19/20\n",
            "938/938 [==============================] - 76s 81ms/step - loss: 0.2243 - accuracy: 0.9164\n",
            "WARNING:tensorflow:Can save best model only with val_loss available, skipping.\n",
            "Epoch 20/20\n",
            "938/938 [==============================] - 75s 80ms/step - loss: 0.2208 - accuracy: 0.9171\n",
            "WARNING:tensorflow:Can save best model only with val_loss available, skipping.\n",
            "CPU times: user 41min 59s, sys: 1min, total: 43min\n",
            "Wall time: 24min 48s\n"
          ]
        },
        {
          "output_type": "execute_result",
          "data": {
            "text/plain": [
              "<keras.callbacks.History at 0x7fba20134750>"
            ]
          },
          "metadata": {},
          "execution_count": 39
        }
      ]
    },
    {
      "cell_type": "code",
      "metadata": {
        "id": "S23dKM4RiBss"
      },
      "source": [
        "# Convert nn_model prediction results\n",
        "nn_prediction_results = nn_model.predict(nn_x_test)\n",
        "nn_y_fit = np.full((10000,), 0, dtype='uint8')\n",
        "\n",
        "for i in range(0, len(nn_prediction_results)-1, 1):\n",
        "  nn_y_fit[i] = np.argmax(nn_prediction_results[i])"
      ],
      "execution_count": 40,
      "outputs": []
    },
    {
      "cell_type": "code",
      "metadata": {
        "colab": {
          "base_uri": "https://localhost:8080/"
        },
        "id": "PGj3eRc9iDhG",
        "outputId": "8cc72120-67ac-42bd-fc63-b2f4a8a15c25"
      },
      "source": [
        "print(classification_report(y_test, nn_y_fit, target_names=label_name))"
      ],
      "execution_count": 41,
      "outputs": [
        {
          "output_type": "stream",
          "name": "stdout",
          "text": [
            "              precision    recall  f1-score   support\n",
            "\n",
            " t-shirt/top       0.85      0.90      0.87      1000\n",
            "     trouser       0.99      0.98      0.99      1000\n",
            "    pullover       0.87      0.89      0.88      1000\n",
            "       dress       0.90      0.94      0.92      1000\n",
            "        coat       0.87      0.87      0.87      1000\n",
            "      sandal       0.99      0.98      0.99      1000\n",
            "       shirt       0.80      0.72      0.76      1000\n",
            "     sneaker       0.93      0.99      0.96      1000\n",
            "         bag       0.99      0.98      0.99      1000\n",
            "  ankle-boot       0.99      0.95      0.97      1000\n",
            "\n",
            "    accuracy                           0.92     10000\n",
            "   macro avg       0.92      0.92      0.92     10000\n",
            "weighted avg       0.92      0.92      0.92     10000\n",
            "\n"
          ]
        }
      ]
    },
    {
      "cell_type": "code",
      "metadata": {
        "colab": {
          "base_uri": "https://localhost:8080/",
          "height": 625
        },
        "id": "60PvqxtQiFIt",
        "outputId": "f8ff9315-c270-43d8-bbd2-b654b8070bd1"
      },
      "source": [
        "mat = confusion_matrix(y_test, nn_y_fit)\n",
        "plt.figure(figsize=(10, 16))\n",
        "sns.heatmap(mat.T, square=True, annot=True, fmt='d', cbar=False,\n",
        "            xticklabels=label_name,\n",
        "            yticklabels=label_name)\n",
        "plt.xlabel('true label')\n",
        "plt.ylabel('predicted label');"
      ],
      "execution_count": 42,
      "outputs": [
        {
          "output_type": "display_data",
          "data": {
            "image/png": "[encoded data removed]",
            "text/plain": [
              "<Figure size 720x1152 with 1 Axes>"
            ]
          },
          "metadata": {}
        }
      ]
    },
    {
      "cell_type": "markdown",
      "metadata": {
        "id": "-0OmS-v-1QP5"
      },
      "source": [
        "Validation with Random State and Flattened Array"
      ]
    },
    {
      "cell_type": "code",
      "metadata": {
        "id": "fcSyW9fB1Czw"
      },
      "source": [
        "# Load data from tenserflow keras\n",
        "(train_images, train_labels), (test_images, test_labels)= datasets.fashion_mnist.load_data()\n",
        "\n",
        "# Label names according to label reference\n",
        "label_name = ['t-shirt/top', 'trouser', 'pullover', 'dress', 'coat',\n",
        "              'sandal', 'shirt', 'sneaker', 'bag', 'ankle-boot']"
      ],
      "execution_count": 20,
      "outputs": []
    },
    {
      "cell_type": "code",
      "metadata": {
        "id": "wFbDaEG91mtE"
      },
      "source": [
        "# Now, let us normalize the array values\n",
        "\n",
        "train_images = train_images/np.float32(255)\n",
        "test_images = test_images/np.float32(255)\n",
        "\n",
        "# For classification purposes in python, it will be much better to convert our 2d array into a 1d array, filling in row by row.\n",
        "# Then we turn our flattened array into a numpy array object. \n",
        "def convert(nparray):\n",
        "    l=[]\n",
        "    dims=nparray.shape\n",
        "    for i in range(dims[0]):\n",
        "        l.append(nparray[i].flatten())\n",
        "    l=np.array(l)\n",
        "    return l\n",
        "train_images_mod = convert(train_images)\n",
        "test_images_mod  = convert(test_images)\n"
      ],
      "execution_count": 21,
      "outputs": []
    },
    {
      "cell_type": "code",
      "metadata": {
        "colab": {
          "base_uri": "https://localhost:8080/"
        },
        "id": "eRdxJ7Hb1wqp",
        "outputId": "c0d7354c-6f16-4757-9725-00869a4ad37a"
      },
      "source": [
        "# We will first reshape our data, in order to produce viable results. We will choose that our data has 1 channel, which signals\n",
        "# that we have a grayscale image. The labels will be turned to categorical.\n",
        "\n",
        "cnn_train       = train_images_mod.reshape(60000,28,28,1)\n",
        "cnn_test        = test_images_mod.reshape(10000,28,28,1)\n",
        "cnn_label_train = to_categorical(train_labels)\n",
        "cnn_label_test  = to_categorical(test_labels)\n",
        "\n",
        "# We will also introduce a validation set. \n",
        "# points from the test set\n",
        "\n",
        "cnn_train, cnn_train_val, cnn_label_train, cnn_label_train_val = train_test_split(cnn_train,cnn_label_train, test_size = 0.2, random_state = 2019)\n",
        "\n",
        "# The model we will build is sequential, going layer by layer. It is also the easiest way to build a model in KERAS.\n",
        "from keras.layers import Dense, Flatten, Conv2D, Dropout, MaxPooling2D\n",
        "import keras\n",
        "import keras.utils\n",
        "from keras import utils as np_utils\n",
        "from tensorflow.keras.utils import to_categorical\n",
        "cnn_model = Sequential()\n",
        "cnn_model.add(Conv2D(32, kernel_size = (3,3), activation = 'relu' , kernel_initializer = 'he_uniform', input_shape = (28,28,1)))\n",
        "cnn_model.add(MaxPooling2D(pool_size=(2,2)))\n",
        "cnn_model.add(Conv2D(64, kernel_size = (3,3), activation = 'relu'))\n",
        "cnn_model.add(MaxPooling2D(pool_size=(2,2)))\n",
        "cnn_model.add(Flatten())\n",
        "cnn_model.add(Dense(128,activation = 'relu'))\n",
        "cnn_model.add(Dense(10,activation='softmax'))\n",
        "cnn_model.compile(loss=keras.losses.categorical_crossentropy,\n",
        "                  optimizer='adam',\n",
        "                  metrics=['accuracy'])\n",
        "\n",
        "# Here, we are going to fit the model to our dataset.\n",
        "\n",
        "cnn_model_training = cnn_model.fit(cnn_train,cnn_label_train,batch_size=64,epochs=25,verbose=1,\n",
        "                           validation_data=(cnn_train_val,cnn_label_train_val))"
      ],
      "execution_count": 36,
      "outputs": [
        {
          "output_type": "stream",
          "name": "stdout",
          "text": [
            "Epoch 1/25\n",
            "750/750 [==============================] - 41s 53ms/step - loss: 0.4678 - accuracy: 0.8295 - val_loss: 0.3614 - val_accuracy: 0.8692\n",
            "Epoch 2/25\n",
            "750/750 [==============================] - 41s 55ms/step - loss: 0.3175 - accuracy: 0.8839 - val_loss: 0.2980 - val_accuracy: 0.8928\n",
            "Epoch 3/25\n",
            "750/750 [==============================] - 41s 54ms/step - loss: 0.2669 - accuracy: 0.9022 - val_loss: 0.2973 - val_accuracy: 0.8882\n",
            "Epoch 4/25\n",
            "750/750 [==============================] - 40s 54ms/step - loss: 0.2377 - accuracy: 0.9122 - val_loss: 0.2945 - val_accuracy: 0.8932\n",
            "Epoch 5/25\n",
            "750/750 [==============================] - 40s 54ms/step - loss: 0.2110 - accuracy: 0.9210 - val_loss: 0.2552 - val_accuracy: 0.9053\n",
            "Epoch 6/25\n",
            "750/750 [==============================] - 40s 53ms/step - loss: 0.1851 - accuracy: 0.9314 - val_loss: 0.2530 - val_accuracy: 0.9100\n",
            "Epoch 7/25\n",
            "750/750 [==============================] - 40s 53ms/step - loss: 0.1679 - accuracy: 0.9382 - val_loss: 0.2493 - val_accuracy: 0.9122\n",
            "Epoch 8/25\n",
            "750/750 [==============================] - 40s 53ms/step - loss: 0.1456 - accuracy: 0.9454 - val_loss: 0.2678 - val_accuracy: 0.9078\n",
            "Epoch 9/25\n",
            "750/750 [==============================] - 40s 54ms/step - loss: 0.1292 - accuracy: 0.9515 - val_loss: 0.2613 - val_accuracy: 0.9115\n",
            "Epoch 10/25\n",
            "750/750 [==============================] - 40s 54ms/step - loss: 0.1154 - accuracy: 0.9577 - val_loss: 0.2732 - val_accuracy: 0.9148\n",
            "Epoch 11/25\n",
            "750/750 [==============================] - 40s 54ms/step - loss: 0.0983 - accuracy: 0.9638 - val_loss: 0.2868 - val_accuracy: 0.9091\n",
            "Epoch 12/25\n",
            "750/750 [==============================] - 41s 54ms/step - loss: 0.0863 - accuracy: 0.9679 - val_loss: 0.3092 - val_accuracy: 0.9120\n",
            "Epoch 13/25\n",
            "750/750 [==============================] - 40s 53ms/step - loss: 0.0757 - accuracy: 0.9724 - val_loss: 0.2962 - val_accuracy: 0.9118\n",
            "Epoch 14/25\n",
            "750/750 [==============================] - 41s 54ms/step - loss: 0.0655 - accuracy: 0.9757 - val_loss: 0.3427 - val_accuracy: 0.9104\n",
            "Epoch 15/25\n",
            "750/750 [==============================] - 40s 54ms/step - loss: 0.0615 - accuracy: 0.9777 - val_loss: 0.3664 - val_accuracy: 0.9091\n",
            "Epoch 16/25\n",
            "750/750 [==============================] - 40s 54ms/step - loss: 0.0520 - accuracy: 0.9803 - val_loss: 0.3740 - val_accuracy: 0.9107\n",
            "Epoch 17/25\n",
            "750/750 [==============================] - 40s 53ms/step - loss: 0.0486 - accuracy: 0.9826 - val_loss: 0.3874 - val_accuracy: 0.9125\n",
            "Epoch 18/25\n",
            "750/750 [==============================] - 40s 53ms/step - loss: 0.0391 - accuracy: 0.9855 - val_loss: 0.3802 - val_accuracy: 0.9133\n",
            "Epoch 19/25\n",
            "750/750 [==============================] - 40s 53ms/step - loss: 0.0395 - accuracy: 0.9855 - val_loss: 0.4535 - val_accuracy: 0.9059\n",
            "Epoch 20/25\n",
            "750/750 [==============================] - 40s 54ms/step - loss: 0.0362 - accuracy: 0.9866 - val_loss: 0.4513 - val_accuracy: 0.9054\n",
            "Epoch 21/25\n",
            "750/750 [==============================] - 41s 55ms/step - loss: 0.0309 - accuracy: 0.9889 - val_loss: 0.4425 - val_accuracy: 0.9100\n",
            "Epoch 22/25\n",
            "750/750 [==============================] - 41s 54ms/step - loss: 0.0328 - accuracy: 0.9877 - val_loss: 0.4886 - val_accuracy: 0.9006\n",
            "Epoch 23/25\n",
            "750/750 [==============================] - 40s 54ms/step - loss: 0.0259 - accuracy: 0.9908 - val_loss: 0.4814 - val_accuracy: 0.9103\n",
            "Epoch 24/25\n",
            "750/750 [==============================] - 40s 53ms/step - loss: 0.0198 - accuracy: 0.9932 - val_loss: 0.5100 - val_accuracy: 0.9082\n",
            "Epoch 25/25\n",
            "750/750 [==============================] - 40s 53ms/step - loss: 0.0240 - accuracy: 0.9912 - val_loss: 0.5246 - val_accuracy: 0.9076\n"
          ]
        }
      ]
    },
    {
      "cell_type": "code",
      "metadata": {
        "colab": {
          "base_uri": "https://localhost:8080/",
          "height": 551
        },
        "id": "6ghzQpk8t3-U",
        "outputId": "156f1881-f52a-49bc-8f95-2e854ec41154"
      },
      "source": [
        "cnn_accuracy     = cnn_model_training.history['accuracy']\n",
        "cnn_val_accuracy = cnn_model_training.history['val_accuracy']\n",
        "loss             = cnn_model_training.history['loss'] \n",
        "val_loss         = cnn_model_training.history['val_loss']\n",
        "epochs = [i for i in range (1,26)]\n",
        "\n",
        "plt.plot(epochs, cnn_accuracy, 'b--', label = 'Test accuracy')\n",
        "plt.plot(epochs, cnn_val_accuracy, 'r', label='Validation accuracy')\n",
        "plt.title('Training and validation accuracy')\n",
        "plt.savefig('Accuracy values')\n",
        "plt.legend()\n",
        "\n",
        "plt.figure()\n",
        "plt.plot(epochs, loss, 'b--', label = 'Training loss')\n",
        "plt.plot(epochs, val_loss, 'r', label = 'Validation loss')\n",
        "plt.title('Training and validation loss')\n",
        "plt.legend()\n",
        "plt.savefig('Loss values')\n",
        "plt.show()"
      ],
      "execution_count": 37,
      "outputs": [
        {
          "output_type": "display_data",
          "data": {
            "image/png": "[encoded data removed]",
            "text/plain": [
              "<Figure size 432x288 with 1 Axes>"
            ]
          },
          "metadata": {}
        },
        {
          "output_type": "display_data",
          "data": {
            "image/png": "[encoded data removed]",
            "text/plain": [
              "<Figure size 432x288 with 1 Axes>"
            ]
          },
          "metadata": {}
        }
      ]
    },
    {
      "cell_type": "markdown",
      "metadata": {
        "id": "a4C6OBv98zj5"
      },
      "source": [
        "Adapted from: https://www.tensorflow.org/tutorials/keras/classification\n"
      ]
    },
    {
      "cell_type": "code",
      "metadata": {
        "id": "YIYRNx5c6EWw"
      },
      "source": [
        "fashion_mnist = tf.keras.datasets.fashion_mnist\n",
        "\n",
        "(train_images, train_labels), (test_images, test_labels) = fashion_mnist.load_data()\n",
        "\n",
        "train_images = train_images / 255.0\n",
        "\n",
        "test_images = test_images / 255.0"
      ],
      "execution_count": null,
      "outputs": []
    },
    {
      "cell_type": "code",
      "metadata": {
        "id": "XFnTAVTt7YJk"
      },
      "source": [
        "model = tf.keras.Sequential([\n",
        "    tf.keras.layers.Flatten(input_shape=(28, 28)),\n",
        "    tf.keras.layers.Dense(128, activation='relu'),\n",
        "    tf.keras.layers.Dense(10)\n",
        "])"
      ],
      "execution_count": null,
      "outputs": []
    },
    {
      "cell_type": "code",
      "metadata": {
        "id": "eQN1uKUz7aTO"
      },
      "source": [
        "model.compile(optimizer='adam',\n",
        "              loss=tf.keras.losses.SparseCategoricalCrossentropy(from_logits=True),\n",
        "              metrics=['accuracy'])"
      ],
      "execution_count": null,
      "outputs": []
    },
    {
      "cell_type": "code",
      "metadata": {
        "colab": {
          "base_uri": "https://localhost:8080/"
        },
        "id": "YlsdZNdw7cMj",
        "outputId": "3443ebca-1936-47c0-d099-daad3be1c3d1"
      },
      "source": [
        "model.fit(train_images, train_labels, epochs=50)"
      ],
      "execution_count": null,
      "outputs": [
        {
          "name": "stdout",
          "output_type": "stream",
          "text": [
            "Epoch 1/50\n",
            "1875/1875 [==============================] - 6s 3ms/step - loss: 0.4965 - accuracy: 0.8239\n",
            "Epoch 2/50\n",
            "1875/1875 [==============================] - 4s 2ms/step - loss: 0.3752 - accuracy: 0.8640\n",
            "Epoch 3/50\n",
            "1875/1875 [==============================] - 4s 2ms/step - loss: 0.3366 - accuracy: 0.8773\n",
            "Epoch 4/50\n",
            "1875/1875 [==============================] - 4s 2ms/step - loss: 0.3132 - accuracy: 0.8843\n",
            "Epoch 5/50\n",
            "1875/1875 [==============================] - 4s 2ms/step - loss: 0.2949 - accuracy: 0.8912\n",
            "Epoch 6/50\n",
            "1875/1875 [==============================] - 4s 2ms/step - loss: 0.2816 - accuracy: 0.8963\n",
            "Epoch 7/50\n",
            "1875/1875 [==============================] - 4s 2ms/step - loss: 0.2691 - accuracy: 0.8999\n",
            "Epoch 8/50\n",
            "1875/1875 [==============================] - 4s 2ms/step - loss: 0.2570 - accuracy: 0.9041\n",
            "Epoch 9/50\n",
            "1875/1875 [==============================] - 4s 2ms/step - loss: 0.2472 - accuracy: 0.9080\n",
            "Epoch 10/50\n",
            "1875/1875 [==============================] - 4s 2ms/step - loss: 0.2392 - accuracy: 0.9094\n",
            "Epoch 11/50\n",
            "1875/1875 [==============================] - 4s 2ms/step - loss: 0.2328 - accuracy: 0.9136\n",
            "Epoch 12/50\n",
            "1875/1875 [==============================] - 4s 2ms/step - loss: 0.2230 - accuracy: 0.9165\n",
            "Epoch 13/50\n",
            "1875/1875 [==============================] - 4s 2ms/step - loss: 0.2173 - accuracy: 0.9182\n",
            "Epoch 14/50\n",
            "1875/1875 [==============================] - 4s 2ms/step - loss: 0.2092 - accuracy: 0.9209\n",
            "Epoch 15/50\n",
            "1875/1875 [==============================] - 4s 2ms/step - loss: 0.2010 - accuracy: 0.9245\n",
            "Epoch 16/50\n",
            "1875/1875 [==============================] - 4s 2ms/step - loss: 0.1994 - accuracy: 0.9250\n",
            "Epoch 17/50\n",
            "1875/1875 [==============================] - 4s 2ms/step - loss: 0.1895 - accuracy: 0.9280\n",
            "Epoch 18/50\n",
            "1875/1875 [==============================] - 4s 2ms/step - loss: 0.1871 - accuracy: 0.9297\n",
            "Epoch 19/50\n",
            "1875/1875 [==============================] - 4s 2ms/step - loss: 0.1814 - accuracy: 0.9312\n",
            "Epoch 20/50\n",
            "1875/1875 [==============================] - 4s 2ms/step - loss: 0.1773 - accuracy: 0.9323\n",
            "Epoch 21/50\n",
            "1875/1875 [==============================] - 4s 2ms/step - loss: 0.1728 - accuracy: 0.9345\n",
            "Epoch 22/50\n",
            "1875/1875 [==============================] - 4s 2ms/step - loss: 0.1685 - accuracy: 0.9360\n",
            "Epoch 23/50\n",
            "1875/1875 [==============================] - 4s 2ms/step - loss: 0.1647 - accuracy: 0.9391\n",
            "Epoch 24/50\n",
            "1875/1875 [==============================] - 4s 2ms/step - loss: 0.1598 - accuracy: 0.9394\n",
            "Epoch 25/50\n",
            "1875/1875 [==============================] - 4s 2ms/step - loss: 0.1570 - accuracy: 0.9403\n",
            "Epoch 26/50\n",
            "1875/1875 [==============================] - 4s 2ms/step - loss: 0.1522 - accuracy: 0.9425\n",
            "Epoch 27/50\n",
            "1875/1875 [==============================] - 4s 2ms/step - loss: 0.1493 - accuracy: 0.9433\n",
            "Epoch 28/50\n",
            "1875/1875 [==============================] - 4s 2ms/step - loss: 0.1454 - accuracy: 0.9448\n",
            "Epoch 29/50\n",
            "1875/1875 [==============================] - 4s 2ms/step - loss: 0.1440 - accuracy: 0.9455\n",
            "Epoch 30/50\n",
            "1875/1875 [==============================] - 4s 2ms/step - loss: 0.1398 - accuracy: 0.9473\n",
            "Epoch 31/50\n",
            "1875/1875 [==============================] - 4s 2ms/step - loss: 0.1373 - accuracy: 0.9481\n",
            "Epoch 32/50\n",
            "1875/1875 [==============================] - 4s 2ms/step - loss: 0.1330 - accuracy: 0.9492\n",
            "Epoch 33/50\n",
            "1875/1875 [==============================] - 4s 2ms/step - loss: 0.1309 - accuracy: 0.9510\n",
            "Epoch 34/50\n",
            "1875/1875 [==============================] - 4s 2ms/step - loss: 0.1258 - accuracy: 0.9522\n",
            "Epoch 35/50\n",
            "1875/1875 [==============================] - 4s 2ms/step - loss: 0.1271 - accuracy: 0.9514\n",
            "Epoch 36/50\n",
            "1875/1875 [==============================] - 4s 2ms/step - loss: 0.1233 - accuracy: 0.9533\n",
            "Epoch 37/50\n",
            "1875/1875 [==============================] - 4s 2ms/step - loss: 0.1204 - accuracy: 0.9548\n",
            "Epoch 38/50\n",
            "1875/1875 [==============================] - 4s 2ms/step - loss: 0.1205 - accuracy: 0.9542\n",
            "Epoch 39/50\n",
            "1875/1875 [==============================] - 4s 2ms/step - loss: 0.1167 - accuracy: 0.9554\n",
            "Epoch 40/50\n",
            "1875/1875 [==============================] - 4s 2ms/step - loss: 0.1157 - accuracy: 0.9561\n",
            "Epoch 41/50\n",
            "1875/1875 [==============================] - 4s 2ms/step - loss: 0.1118 - accuracy: 0.9574\n",
            "Epoch 42/50\n",
            "1875/1875 [==============================] - 4s 2ms/step - loss: 0.1112 - accuracy: 0.9582\n",
            "Epoch 43/50\n",
            "1875/1875 [==============================] - 4s 2ms/step - loss: 0.1104 - accuracy: 0.9589\n",
            "Epoch 44/50\n",
            "1875/1875 [==============================] - 4s 2ms/step - loss: 0.1100 - accuracy: 0.9583\n",
            "Epoch 45/50\n",
            "1875/1875 [==============================] - 4s 2ms/step - loss: 0.1044 - accuracy: 0.9609\n",
            "Epoch 46/50\n",
            "1875/1875 [==============================] - 4s 2ms/step - loss: 0.1037 - accuracy: 0.9607\n",
            "Epoch 47/50\n",
            "1875/1875 [==============================] - 4s 2ms/step - loss: 0.0999 - accuracy: 0.9619\n",
            "Epoch 48/50\n",
            "1875/1875 [==============================] - 4s 2ms/step - loss: 0.0977 - accuracy: 0.9628\n",
            "Epoch 49/50\n",
            "1875/1875 [==============================] - 4s 2ms/step - loss: 0.0972 - accuracy: 0.9635\n",
            "Epoch 50/50\n",
            "1875/1875 [==============================] - 4s 2ms/step - loss: 0.0993 - accuracy: 0.9637\n"
          ]
        },
        {
          "data": {
            "text/plain": [
              "<keras.callbacks.History at 0x7ffa192a2250>"
            ]
          },
          "execution_count": 112,
          "metadata": {},
          "output_type": "execute_result"
        }
      ]
    },
    {
      "cell_type": "code",
      "metadata": {
        "id": "7YFUpWpr7s-v"
      },
      "source": [
        "probability_model = tf.keras.Sequential([model, \n",
        "                                         tf.keras.layers.Softmax()])"
      ],
      "execution_count": null,
      "outputs": []
    },
    {
      "cell_type": "code",
      "metadata": {
        "id": "qAGWPB_t7uvo"
      },
      "source": [
        "predictions = probability_model.predict(test_images)"
      ],
      "execution_count": null,
      "outputs": []
    },
    {
      "cell_type": "code",
      "metadata": {
        "id": "VqO4TEW36Kij"
      },
      "source": [
        "def plot_image(i, predictions_array, true_label, img):\n",
        "  true_label, img = true_label[i], img[i]\n",
        "  plt.grid(False)\n",
        "  plt.xticks([])\n",
        "  plt.yticks([])\n",
        "\n",
        "  plt.imshow(img, cmap=plt.cm.binary)\n",
        "\n",
        "  predicted_label = np.argmax(predictions_array)\n",
        "  if predicted_label == true_label:\n",
        "    color = 'blue'\n",
        "  else:\n",
        "    color = 'red'\n",
        "\n",
        "  plt.xlabel(\"{} {:2.0f}% ({})\".format(label_name[predicted_label],\n",
        "                                100*np.max(predictions_array),\n",
        "                                label_name[true_label]),\n",
        "                                color=color)\n",
        "\n",
        "def plot_value_array(i, predictions_array, true_label):\n",
        "  true_label = true_label[i]\n",
        "  plt.grid(False)\n",
        "  plt.xticks(range(10))\n",
        "  plt.yticks([])\n",
        "  thisplot = plt.bar(range(10), predictions_array, color=\"#777777\")\n",
        "  plt.ylim([0, 1])\n",
        "  predicted_label = np.argmax(predictions_array)\n",
        "\n",
        "  thisplot[predicted_label].set_color('red')\n",
        "  thisplot[true_label].set_color('blue')"
      ],
      "execution_count": null,
      "outputs": []
    },
    {
      "cell_type": "code",
      "metadata": {
        "colab": {
          "base_uri": "https://localhost:8080/",
          "height": 213
        },
        "id": "q4bkiWKA7zjh",
        "outputId": "25a6a0e3-c509-4ab3-8bcd-f2a9afdf90fe"
      },
      "source": [
        "i = 0\n",
        "plt.figure(figsize=(6,3))\n",
        "plt.subplot(1,2,1)\n",
        "plot_image(i, predictions[i], test_labels, test_images)\n",
        "plt.subplot(1,2,2)\n",
        "plot_value_array(i, predictions[i],  test_labels)\n",
        "plt.show()"
      ],
      "execution_count": null,
      "outputs": [
        {
          "data": {
            "image/png": "[encoded data removed]",
            "text/plain": [
              "<Figure size 432x216 with 2 Axes>"
            ]
          },
          "metadata": {},
          "output_type": "display_data"
        }
      ]
    },
    {
      "cell_type": "code",
      "metadata": {
        "colab": {
          "base_uri": "https://localhost:8080/",
          "height": 725
        },
        "id": "y35NYDjs8Nrw",
        "outputId": "328cdb54-7c19-4c98-d348-cf1d9c48111c"
      },
      "source": [
        "# Plot the first X test images, their predicted labels, and the true labels.\n",
        "# Color correct predictions in blue and incorrect predictions in red.\n",
        "num_rows = 5\n",
        "num_cols = 3\n",
        "num_images = num_rows*num_cols\n",
        "plt.figure(figsize=(2*2*num_cols, 2*num_rows))\n",
        "for i in range(num_images):\n",
        "  plt.subplot(num_rows, 2*num_cols, 2*i+1)\n",
        "  plot_image(i, predictions[i], test_labels, test_images)\n",
        "  plt.subplot(num_rows, 2*num_cols, 2*i+2)\n",
        "  plot_value_array(i, predictions[i], test_labels)\n",
        "plt.tight_layout()\n",
        "plt.show()"
      ],
      "execution_count": null,
      "outputs": [
        {
          "data": {
            "image/png": "[encoded data removed]",
            "text/plain": [
              "<Figure size 864x720 with 30 Axes>"
            ]
          },
          "metadata": {},
          "output_type": "display_data"
        }
      ]
    },
    {
      "cell_type": "markdown",
      "metadata": {
        "id": "prY1HY3gjsLA"
      },
      "source": [
        "CNN + Keras"
      ]
    },
    {
      "cell_type": "code",
      "metadata": {
        "id": "G2OtjYupjvfs"
      },
      "source": [
        "# Set the CNN model \n",
        "\n",
        "from keras.layers import Dense, Dropout, Flatten, Conv2D, MaxPool2D\n",
        "model = Sequential()\n",
        "\n",
        "model.add(Conv2D(filters = 32, kernel_size = (5,5),padding = 'Same', \n",
        "                 activation ='relu', input_shape = (28,28,1)))\n",
        "model.add(Conv2D(filters = 32, kernel_size = (5,5),padding = 'Same', \n",
        "                 activation ='relu'))\n",
        "model.add(MaxPool2D(pool_size=(2,2)))\n",
        "model.add(Dropout(0.25))\n",
        "\n",
        "\n",
        "model.add(Conv2D(filters = 64, kernel_size = (3,3),padding = 'Same', \n",
        "                 activation ='relu'))\n",
        "model.add(Conv2D(filters = 64, kernel_size = (3,3),padding = 'Same', \n",
        "                 activation ='relu'))\n",
        "model.add(MaxPool2D(pool_size=(2,2), strides=(2,2)))\n",
        "model.add(Dropout(0.25))\n",
        "\n",
        "\n",
        "model.add(Flatten())\n",
        "model.add(Dense(256, activation = \"relu\"))\n",
        "model.add(Dropout(0.5))\n",
        "model.add(Dense(10, activation = \"softmax\"))\n"
      ],
      "execution_count": null,
      "outputs": []
    },
    {
      "cell_type": "code",
      "metadata": {
        "id": "ISe5O2X_lkg0"
      },
      "source": [
        "# Define the optimizer\n",
        "import tensorflow as tf\n",
        "optimizer = tf.keras.optimizers.RMSprop(lr=0.001, rho=0.9, epsilon=1e-08, decay=0.0)"
      ],
      "execution_count": null,
      "outputs": []
    },
    {
      "cell_type": "code",
      "metadata": {
        "id": "QM0J0ltelm7v"
      },
      "source": [
        "# Compile the model\n",
        "model.compile(optimizer = optimizer , loss = \"categorical_crossentropy\", metrics=[\"accuracy\"])"
      ],
      "execution_count": null,
      "outputs": []
    },
    {
      "cell_type": "code",
      "metadata": {
        "id": "0oo_iyKElu2V"
      },
      "source": [
        "# Set a learning rate annealer\n",
        "from keras.callbacks import ReduceLROnPlateau\n",
        "learning_rate_reduction = ReduceLROnPlateau(monitor='accuracy', \n",
        "                                            patience=3, \n",
        "                                            verbose=1, \n",
        "                                            factor=0.5, \n",
        "                                            min_lr=0.00001)"
      ],
      "execution_count": null,
      "outputs": []
    },
    {
      "cell_type": "code",
      "metadata": {
        "id": "TFQ_zB2sl14G"
      },
      "source": [
        "epochs = 10\n",
        "batch_size = 86"
      ],
      "execution_count": null,
      "outputs": []
    },
    {
      "cell_type": "code",
      "metadata": {
        "id": "K2jTdxr0l30S"
      },
      "source": [
        "# With data augmentation to prevent overfitting \n",
        "from keras.preprocessing.image import ImageDataGenerator\n",
        "datagen = ImageDataGenerator(\n",
        "        featurewise_center=False,  # set input mean to 0 over the dataset\n",
        "        samplewise_center=False,  # set each sample mean to 0\n",
        "        featurewise_std_normalization=False,  # divide inputs by std of the dataset\n",
        "        samplewise_std_normalization=False,  # divide each input by its std\n",
        "        zca_whitening=False,  # apply ZCA whitening\n",
        "        rotation_range=10,  # randomly rotate images in the range (degrees, 0 to 180)\n",
        "        zoom_range = 0.1, # Randomly zoom image \n",
        "        width_shift_range=0.1,  # randomly shift images horizontally (fraction of total width)\n",
        "        height_shift_range=0.1,  # randomly shift images vertically (fraction of total height)\n",
        "        horizontal_flip=False,  # randomly flip images\n",
        "        vertical_flip=False)  # randomly flip images\n",
        "\n",
        "\n",
        "datagen.fit(nn_x_train)"
      ],
      "execution_count": null,
      "outputs": []
    },
    {
      "cell_type": "code",
      "metadata": {
        "id": "WzY72D06rI7w"
      },
      "source": [
        "nn_y_test = to_categorical(y_test, 10)"
      ],
      "execution_count": null,
      "outputs": []
    },
    {
      "cell_type": "code",
      "metadata": {
        "colab": {
          "background_save": true,
          "base_uri": "https://localhost:8080/"
        },
        "id": "g_aHM52tmHxd",
        "outputId": "deb55053-448a-490e-e0f1-88b1a9dee5c1"
      },
      "source": [
        "# Fit the model\n",
        "history = model.fit(datagen.flow(nn_x_train, nn_y_train, batch_size=batch_size),\n",
        "                              epochs = epochs, validation_data = (nn_x_test,nn_y_test),\n",
        "                              verbose = 2, steps_per_epoch=nn_x_train.shape[0] // batch_size\n",
        "                              , callbacks=[learning_rate_reduction])"
      ],
      "execution_count": null,
      "outputs": [
        {
          "name": "stdout",
          "output_type": "stream",
          "text": [
            "Epoch 1/10\n",
            "697/697 - 435s - loss: 0.3799 - accuracy: 0.8663 - val_loss: 0.2861 - val_accuracy: 0.8966\n",
            "Epoch 2/10\n",
            "697/697 - 424s - loss: 0.3823 - accuracy: 0.8663 - val_loss: 0.2908 - val_accuracy: 0.8996\n",
            "Epoch 3/10\n",
            "697/697 - 420s - loss: 0.3871 - accuracy: 0.8644 - val_loss: 0.2886 - val_accuracy: 0.9004\n",
            "Epoch 4/10\n",
            "697/697 - 410s - loss: 0.3872 - accuracy: 0.8663 - val_loss: 0.2990 - val_accuracy: 0.8949\n",
            "\n",
            "Epoch 00004: ReduceLROnPlateau reducing learning rate to 0.0005000000237487257.\n",
            "Epoch 5/10\n",
            "697/697 - 424s - loss: 0.3471 - accuracy: 0.8782 - val_loss: 0.2754 - val_accuracy: 0.9030\n",
            "Epoch 6/10\n",
            "697/697 - 427s - loss: 0.3433 - accuracy: 0.8789 - val_loss: 0.2892 - val_accuracy: 0.9020\n",
            "Epoch 7/10\n",
            "697/697 - 426s - loss: 0.3403 - accuracy: 0.8781 - val_loss: 0.2799 - val_accuracy: 0.9040\n",
            "Epoch 8/10\n",
            "697/697 - 425s - loss: 0.3401 - accuracy: 0.8790 - val_loss: 0.2992 - val_accuracy: 0.9008\n",
            "Epoch 9/10\n",
            "697/697 - 425s - loss: 0.3463 - accuracy: 0.8782 - val_loss: 0.2983 - val_accuracy: 0.9027\n",
            "Epoch 10/10\n",
            "697/697 - 424s - loss: 0.3445 - accuracy: 0.8809 - val_loss: 0.2811 - val_accuracy: 0.9002\n"
          ]
        }
      ]
    },
    {
      "cell_type": "code",
      "metadata": {
        "id": "-tNen_AHdQBl"
      },
      "source": [
        "# MODEL \n",
        "keras.utils.plot_model(model, show_shapes=True)"
      ],
      "execution_count": null,
      "outputs": []
    },
    {
      "cell_type": "markdown",
      "metadata": {
        "id": "c6ZNma5fja0J"
      },
      "source": [
        "CatBoost"
      ]
    },
    {
      "cell_type": "code",
      "metadata": {
        "colab": {
          "background_save": true
        },
        "id": "KWr9LdH5jg8k",
        "outputId": "329bf61e-541b-4eb2-a816-c20abccf149f"
      },
      "source": [
        "!pip install catboost\n",
        "import catboost\n",
        "print('catboost version:', catboost.__version__)\n",
        "from catboost import CatBoostClassifier"
      ],
      "execution_count": null,
      "outputs": [
        {
          "name": "stdout",
          "output_type": "stream",
          "text": [
            "Requirement already satisfied: catboost in /usr/local/lib/python3.7/dist-packages (0.26.1)\n",
            "Requirement already satisfied: pandas>=0.24.0 in /usr/local/lib/python3.7/dist-packages (from catboost) (1.1.5)\n",
            "Requirement already satisfied: plotly in /usr/local/lib/python3.7/dist-packages (from catboost) (4.4.1)\n",
            "Requirement already satisfied: graphviz in /usr/local/lib/python3.7/dist-packages (from catboost) (0.10.1)\n",
            "Requirement already satisfied: matplotlib in /usr/local/lib/python3.7/dist-packages (from catboost) (3.2.2)\n",
            "Requirement already satisfied: numpy>=1.16.0 in /usr/local/lib/python3.7/dist-packages (from catboost) (1.19.5)\n",
            "Requirement already satisfied: six in /usr/local/lib/python3.7/dist-packages (from catboost) (1.15.0)\n",
            "Requirement already satisfied: scipy in /usr/local/lib/python3.7/dist-packages (from catboost) (1.4.1)\n",
            "Requirement already satisfied: pytz>=2017.2 in /usr/local/lib/python3.7/dist-packages (from pandas>=0.24.0->catboost) (2018.9)\n",
            "Requirement already satisfied: python-dateutil>=2.7.3 in /usr/local/lib/python3.7/dist-packages (from pandas>=0.24.0->catboost) (2.8.2)\n",
            "Requirement already satisfied: pyparsing!=2.0.4,!=2.1.2,!=2.1.6,>=2.0.1 in /usr/local/lib/python3.7/dist-packages (from matplotlib->catboost) (2.4.7)\n",
            "Requirement already satisfied: cycler>=0.10 in /usr/local/lib/python3.7/dist-packages (from matplotlib->catboost) (0.10.0)\n",
            "Requirement already satisfied: kiwisolver>=1.0.1 in /usr/local/lib/python3.7/dist-packages (from matplotlib->catboost) (1.3.1)\n",
            "Requirement already satisfied: retrying>=1.3.3 in /usr/local/lib/python3.7/dist-packages (from plotly->catboost) (1.3.3)\n",
            "catboost version: 0.26.1\n"
          ]
        }
      ]
    },
    {
      "cell_type": "code",
      "metadata": {
        "colab": {
          "background_save": true
        },
        "id": "ervlFCdYsBsK",
        "outputId": "73134847-b05a-4d4b-acaf-d5deaee6b149"
      },
      "source": [
        "## How to do Fashion MNIST image classification using CatBoost in Python\n",
        "\n",
        "def catB(): \n",
        "\n",
        "    print()\n",
        "    print(format('Fashion MNIST image classification using CatBoost','*^88'))\n",
        "\n",
        "    import warnings\n",
        "    warnings.filterwarnings(\"ignore\")    \n",
        "\n",
        "    # load libraries\n",
        "    from keras.datasets import fashion_mnist\n",
        "    from sklearn import metrics\n",
        "    import catboost as ctb\n",
        "    from sklearn.model_selection import cross_val_score    \n",
        "\n",
        "    import time\n",
        "    start_time = time.time()\n",
        "\n",
        "    # data: shuffled and split between train and test sets\n",
        "    (X_train, y_train), (X_test, y_test) = fashion_mnist.load_data()\n",
        "    \n",
        "    # X_train is 60000 rows of 28x28 values --> reshaped in 60000 x 784\n",
        "    RESHAPED = 784\n",
        "\n",
        "    X_train = X_train.reshape(60000, RESHAPED)\n",
        "    X_test = X_test.reshape(10000, RESHAPED)\n",
        "    X_train = X_train.astype('float32')\n",
        "    X_test = X_test.astype('float32')\n",
        "\n",
        "    # normalize the datasets\n",
        "    X_train /= 255.\n",
        "    X_test /= 255.\n",
        "\n",
        "    print(X_train.shape[0], 'train samples')\n",
        "    print(X_test.shape[0], 'test samples')\n",
        "    \n",
        "    # fit a CatBoost model to the data\n",
        "    model = ctb.CatBoostClassifier(iterations=25, \n",
        "                 learning_rate=0.01, depth=6, loss_function='MultiClass')\n",
        "\n",
        "    cv_results = cross_val_score(model, X_train, y_train, \n",
        "                   cv = 2, scoring='accuracy', n_jobs = -1, verbose = 1)    \n",
        "\n",
        "    model.fit(X_train, y_train)\n",
        "    \n",
        "    print(); print(cv_results)    \n",
        "    print(); print(model)\n",
        "\n",
        "    # make predictions\n",
        "    expected_y  = y_test\n",
        "    predicted_y = model.predict(X_test)\n",
        "\n",
        "    # summarize the fit of the model\n",
        "    print(); print(metrics.classification_report(expected_y, predicted_y))\n",
        "    print(); print(metrics.confusion_matrix(expected_y, predicted_y))\n",
        "    mat = confusion_matrix(expected_y, predicted_y)\n",
        "    plt.figure(figsize=(10, 16))\n",
        "    sns.heatmap(mat.T, square=True, annot=True, fmt='d', cbar=False,\n",
        "            xticklabels=label_name,\n",
        "            yticklabels=label_name)\n",
        "    plt.xlabel('true label')\n",
        "    plt.ylabel('predicted label');\n",
        "\n",
        "    print()\n",
        "    print(\"Execution Time %s seconds: \" % (time.time() - start_time))    \n",
        "\n",
        "catB()"
      ],
      "execution_count": null,
      "outputs": [
        {
          "name": "stdout",
          "output_type": "stream",
          "text": [
            "\n",
            "*******************Fashion MNIST image classification using CatBoost********************\n",
            "60000 train samples\n",
            "10000 test samples\n"
          ]
        },
        {
          "name": "stderr",
          "output_type": "stream",
          "text": [
            "[Parallel(n_jobs=-1)]: Using backend LokyBackend with 2 concurrent workers.\n",
            "[Parallel(n_jobs=-1)]: Done   2 out of   2 | elapsed:  3.6min remaining:    0.0s\n",
            "[Parallel(n_jobs=-1)]: Done   2 out of   2 | elapsed:  3.6min finished\n"
          ]
        },
        {
          "name": "stdout",
          "output_type": "stream",
          "text": [
            "0:\tlearn: 2.2612260\ttotal: 7.36s\tremaining: 2m 56s\n",
            "1:\tlearn: 2.2221044\ttotal: 14.2s\tremaining: 2m 43s\n",
            "2:\tlearn: 2.1835140\ttotal: 21.1s\tremaining: 2m 34s\n",
            "3:\tlearn: 2.1479440\ttotal: 27.9s\tremaining: 2m 26s\n",
            "4:\tlearn: 2.1151472\ttotal: 34.6s\tremaining: 2m 18s\n",
            "5:\tlearn: 2.0821961\ttotal: 41.4s\tremaining: 2m 10s\n",
            "6:\tlearn: 2.0528357\ttotal: 48s\tremaining: 2m 3s\n",
            "7:\tlearn: 2.0232843\ttotal: 54.6s\tremaining: 1m 56s\n",
            "8:\tlearn: 1.9958493\ttotal: 1m 1s\tremaining: 1m 49s\n",
            "9:\tlearn: 1.9697021\ttotal: 1m 8s\tremaining: 1m 42s\n",
            "10:\tlearn: 1.9429410\ttotal: 1m 14s\tremaining: 1m 35s\n",
            "11:\tlearn: 1.9187191\ttotal: 1m 21s\tremaining: 1m 28s\n",
            "12:\tlearn: 1.8945889\ttotal: 1m 28s\tremaining: 1m 21s\n",
            "13:\tlearn: 1.8712186\ttotal: 1m 35s\tremaining: 1m 15s\n",
            "14:\tlearn: 1.8492743\ttotal: 1m 42s\tremaining: 1m 8s\n",
            "15:\tlearn: 1.8271724\ttotal: 1m 49s\tremaining: 1m 1s\n",
            "16:\tlearn: 1.8063433\ttotal: 1m 56s\tremaining: 54.7s\n",
            "17:\tlearn: 1.7858081\ttotal: 2m 3s\tremaining: 47.9s\n",
            "18:\tlearn: 1.7662778\ttotal: 2m 9s\tremaining: 40.9s\n",
            "19:\tlearn: 1.7479773\ttotal: 2m 16s\tremaining: 34.1s\n",
            "20:\tlearn: 1.7295657\ttotal: 2m 22s\tremaining: 27.2s\n",
            "21:\tlearn: 1.7111084\ttotal: 2m 29s\tremaining: 20.4s\n",
            "22:\tlearn: 1.6937579\ttotal: 2m 35s\tremaining: 13.6s\n",
            "23:\tlearn: 1.6759512\ttotal: 2m 42s\tremaining: 6.77s\n",
            "24:\tlearn: 1.6591035\ttotal: 2m 49s\tremaining: 0us\n",
            "\n",
            "[0.7228     0.73993333]\n",
            "\n",
            "<catboost.core.CatBoostClassifier object at 0x7ffa1f7fd290>\n",
            "\n",
            "              precision    recall  f1-score   support\n",
            "\n",
            "           0       0.75      0.74      0.74      1000\n",
            "           1       0.97      0.82      0.89      1000\n",
            "           2       0.53      0.64      0.58      1000\n",
            "           3       0.61      0.83      0.70      1000\n",
            "           4       0.49      0.62      0.55      1000\n",
            "           5       0.95      0.79      0.86      1000\n",
            "           6       0.60      0.19      0.29      1000\n",
            "           7       0.83      0.82      0.83      1000\n",
            "           8       0.87      0.89      0.88      1000\n",
            "           9       0.79      0.93      0.85      1000\n",
            "\n",
            "    accuracy                           0.73     10000\n",
            "   macro avg       0.74      0.73      0.72     10000\n",
            "weighted avg       0.74      0.73      0.72     10000\n",
            "\n",
            "\n",
            "[[736   7  60 123  13   1  32   0  28   0]\n",
            " [  6 821  16 148   6   3   0   0   0   0]\n",
            " [ 15   1 636  14 278   0  42   0  14   0]\n",
            " [ 31   7  20 832  92   0   8   0  10   0]\n",
            " [  2   2 231  94 620   1  36   0  14   0]\n",
            " [  0   0   0   1   0 786   0  98  10 105]\n",
            " [187   3 220 121 234   0 187   0  48   0]\n",
            " [  0   0   0   0   0  27   0 825   3 145]\n",
            " [  1   5  26  40  10   5   5  15 888   5]\n",
            " [  1   0   0   1   0   7   0  54   4 933]]\n",
            "\n",
            "Execution Time 390.55745935440063 seconds: \n"
          ]
        },
        {
          "data": {
            "image/png": "[encoded data removed]",
            "text/plain": [
              "<Figure size 720x1152 with 1 Axes>"
            ]
          },
          "metadata": {},
          "output_type": "display_data"
        }
      ]
    },
    {
      "cell_type": "code",
      "metadata": {
        "id": "jXiWvfKkXXg0",
        "colab": {
          "base_uri": "https://localhost:8080/",
          "height": 1000
        },
        "outputId": "fcea8044-5d42-4324-c94e-e75f505b574a"
      },
      "source": [
        "## How to do Fashion MNIST image classification using Random Forest in Python\n",
        "\n",
        "def rfB(): \n",
        "\n",
        "    print()\n",
        "    print(format('Fashion MNIST image classification using Random Forest','*^88'))\n",
        "\n",
        "    import warnings\n",
        "    warnings.filterwarnings(\"ignore\")    \n",
        "\n",
        "    # load libraries\n",
        "    from keras.datasets import fashion_mnist\n",
        "    from sklearn import metrics\n",
        "    from sklearn.model_selection import cross_val_score    \n",
        "\n",
        "    import time\n",
        "    start_time = time.time()\n",
        "\n",
        "    # data: shuffled and split between train and test sets\n",
        "    (X_train, y_train), (X_test, y_test) = fashion_mnist.load_data()\n",
        "    # Label names according to label reference\n",
        "    label_name = ['t-shirt/top', 'trouser', 'pullover', 'dress', 'coat',\n",
        "              'sandal', 'shirt', 'sneaker', 'bag', 'ankle-boot']\n",
        "    # X_train is 60000 rows of 28x28 values --> reshaped in 60000 x 784\n",
        "    RESHAPED = 784\n",
        "\n",
        "    X_train = X_train.reshape(60000, RESHAPED)\n",
        "    X_test = X_test.reshape(10000, RESHAPED)\n",
        "    X_train = X_train.astype('float32')\n",
        "    X_test = X_test.astype('float32')\n",
        "\n",
        "    # normalize the datasets\n",
        "    X_train /= 255.\n",
        "    X_test /= 255.\n",
        "\n",
        "    print(X_train.shape[0], 'train samples')\n",
        "    print(X_test.shape[0], 'test samples')\n",
        "    \n",
        "    # fit a Random Forest model to the data\n",
        "    model = RandomForestClassifier(n_estimators=64, n_jobs=-1)\n",
        "\n",
        "    cv_results = cross_val_score(model, X_train, y_train, \n",
        "                   cv = 2, scoring='accuracy', n_jobs = -1, verbose = 1)    \n",
        "\n",
        "    model.fit(X_train, y_train)\n",
        "    \n",
        "    print(); print(cv_results)    \n",
        "    print(); print(model)\n",
        "\n",
        "    # make predictions\n",
        "    expected_y  = y_test\n",
        "    predicted_y = model.predict(X_test)\n",
        "\n",
        "    # summarize the fit of the model\n",
        "    print(); print(metrics.classification_report(expected_y, predicted_y))\n",
        "    print(); print(metrics.confusion_matrix(expected_y, predicted_y))\n",
        "    mat = confusion_matrix(expected_y, predicted_y)\n",
        "    plt.figure(figsize=(10, 16))\n",
        "    sns.heatmap(mat.T, square=True, annot=True, fmt='d', cbar=False,\n",
        "            xticklabels=label_name,\n",
        "            yticklabels=label_name)\n",
        "    plt.xlabel('true label')\n",
        "    plt.ylabel('predicted label');\n",
        "    print()\n",
        "    print(\"Execution Time %s seconds: \" % (time.time() - start_time))    \n",
        "\n",
        "rfB()"
      ],
      "execution_count": 38,
      "outputs": [
        {
          "output_type": "stream",
          "name": "stdout",
          "text": [
            "\n",
            "*****************Fashion MNIST image classification using Random Forest*****************\n",
            "60000 train samples\n",
            "10000 test samples\n"
          ]
        },
        {
          "output_type": "stream",
          "name": "stderr",
          "text": [
            "[Parallel(n_jobs=-1)]: Using backend LokyBackend with 2 concurrent workers.\n",
            "[Parallel(n_jobs=-1)]: Done   2 out of   2 | elapsed:   45.6s remaining:    0.0s\n",
            "[Parallel(n_jobs=-1)]: Done   2 out of   2 | elapsed:   45.6s finished\n"
          ]
        },
        {
          "output_type": "stream",
          "name": "stdout",
          "text": [
            "\n",
            "[0.87146667 0.87533333]\n",
            "\n",
            "RandomForestClassifier(bootstrap=True, ccp_alpha=0.0, class_weight=None,\n",
            "                       criterion='gini', max_depth=None, max_features='auto',\n",
            "                       max_leaf_nodes=None, max_samples=None,\n",
            "                       min_impurity_decrease=0.0, min_impurity_split=None,\n",
            "                       min_samples_leaf=1, min_samples_split=2,\n",
            "                       min_weight_fraction_leaf=0.0, n_estimators=64, n_jobs=-1,\n",
            "                       oob_score=False, random_state=None, verbose=0,\n",
            "                       warm_start=False)\n",
            "\n",
            "              precision    recall  f1-score   support\n",
            "\n",
            "           0       0.81      0.86      0.83      1000\n",
            "           1       0.99      0.96      0.98      1000\n",
            "           2       0.76      0.80      0.78      1000\n",
            "           3       0.88      0.90      0.89      1000\n",
            "           4       0.77      0.81      0.79      1000\n",
            "           5       0.97      0.96      0.97      1000\n",
            "           6       0.72      0.58      0.64      1000\n",
            "           7       0.93      0.95      0.94      1000\n",
            "           8       0.96      0.97      0.97      1000\n",
            "           9       0.95      0.95      0.95      1000\n",
            "\n",
            "    accuracy                           0.88     10000\n",
            "   macro avg       0.87      0.88      0.87     10000\n",
            "weighted avg       0.87      0.88      0.87     10000\n",
            "\n",
            "\n",
            "[[861   1  13  31   4   1  82   0   7   0]\n",
            " [  3 965   1  19   4   0   7   0   1   0]\n",
            " [ 13   0 802   9 114   0  57   0   5   0]\n",
            " [ 23   4   9 900  31   0  29   0   3   1]\n",
            " [  1   1  95  36 814   0  50   0   3   0]\n",
            " [  0   0   0   1   0 958   0  27   3  11]\n",
            " [161   2 127  27  85   0 584   0  14   0]\n",
            " [  0   0   0   0   0  15   0 948   0  37]\n",
            " [  1   1   3   3   5   2   6   5 973   1]\n",
            " [  0   0   0   0   0   8   1  41   2 948]]\n",
            "\n",
            "Execution Time 93.20098567008972 seconds: \n"
          ]
        },
        {
          "output_type": "display_data",
          "data": {
            "image/png": "[encoded data removed]",
            "text/plain": [
              "<Figure size 720x1152 with 1 Axes>"
            ]
          },
          "metadata": {}
        }
      ]
    },
    {
      "cell_type": "code",
      "metadata": {
        "id": "vWkcR6yIBAOY"
      },
      "source": [
        "from xgboost import XGBClassifier"
      ],
      "execution_count": 43,
      "outputs": []
    },
    {
      "cell_type": "code",
      "metadata": {
        "colab": {
          "base_uri": "https://localhost:8080/",
          "height": 1000
        },
        "id": "79OMY4OSBG5R",
        "outputId": "a3fcb29d-7875-4bfe-d5d2-1bed54a083b2"
      },
      "source": [
        "## How to do Fashion MNIST image classification using XGBoost in Python\n",
        "\n",
        "def xgbB(): \n",
        "\n",
        "    print()\n",
        "    print(format('Fashion MNIST image classification using XGBoost','*^88'))\n",
        "\n",
        "    import warnings\n",
        "    warnings.filterwarnings(\"ignore\")    \n",
        "\n",
        "    # load libraries\n",
        "    from keras.datasets import fashion_mnist\n",
        "    from sklearn import metrics\n",
        "    from sklearn.model_selection import cross_val_score    \n",
        "\n",
        "    import time\n",
        "    start_time = time.time()\n",
        "\n",
        "    # data: shuffled and split between train and test sets\n",
        "    (X_train, y_train), (X_test, y_test) = fashion_mnist.load_data()\n",
        "    # Label names according to label reference\n",
        "    label_name = ['t-shirt/top', 'trouser', 'pullover', 'dress', 'coat',\n",
        "              'sandal', 'shirt', 'sneaker', 'bag', 'ankle-boot']\n",
        "    # X_train is 60000 rows of 28x28 values --> reshaped in 60000 x 784\n",
        "    RESHAPED = 784\n",
        "\n",
        "    X_train = X_train.reshape(60000, RESHAPED)\n",
        "    X_test = X_test.reshape(10000, RESHAPED)\n",
        "    X_train = X_train.astype('float32')\n",
        "    X_test = X_test.astype('float32')\n",
        "\n",
        "    # normalize the datasets\n",
        "    X_train /= 255.\n",
        "    X_test /= 255.\n",
        "\n",
        "    print(X_train.shape[0], 'train samples')\n",
        "    print(X_test.shape[0], 'test samples')\n",
        "    \n",
        "    # fit a XGBoost model to the data\n",
        "    model = XGBClassifier(n_jobs=-1)\n",
        "\n",
        "    cv_results = cross_val_score(model, X_train, y_train, \n",
        "                   cv = 2, scoring='accuracy', n_jobs = -1, verbose = 1)    \n",
        "\n",
        "    model.fit(X_train, y_train)\n",
        "    \n",
        "    print(); print(cv_results)    \n",
        "    print(); print(model)\n",
        "\n",
        "    # make predictions\n",
        "    expected_y  = y_test\n",
        "    predicted_y = model.predict(X_test)\n",
        "\n",
        "    # summarize the fit of the model\n",
        "    print(); print(metrics.classification_report(expected_y, predicted_y))\n",
        "    print(); print(metrics.confusion_matrix(expected_y, predicted_y))\n",
        "    mat = confusion_matrix(expected_y, predicted_y)\n",
        "    plt.figure(figsize=(10, 16))\n",
        "    sns.heatmap(mat.T, square=True, annot=True, fmt='d', cbar=False,\n",
        "            xticklabels=label_name,\n",
        "            yticklabels=label_name)\n",
        "    plt.xlabel('true label')\n",
        "    plt.ylabel('predicted label');\n",
        "    print()\n",
        "    print(\"Execution Time %s seconds: \" % (time.time() - start_time))    \n",
        "\n",
        "xgbB()"
      ],
      "execution_count": 44,
      "outputs": [
        {
          "metadata": {
            "tags": null
          },
          "name": "stdout",
          "output_type": "stream",
          "text": [
            "\n",
            "********************Fashion MNIST image classification using XGBoost********************\n",
            "60000 train samples\n",
            "10000 test samples\n"
          ]
        },
        {
          "metadata": {
            "tags": null
          },
          "name": "stderr",
          "output_type": "stream",
          "text": [
            "[Parallel(n_jobs=-1)]: Using backend LokyBackend with 2 concurrent workers.\n",
            "[Parallel(n_jobs=-1)]: Done   2 out of   2 | elapsed: 12.8min remaining:    0.0s\n",
            "[Parallel(n_jobs=-1)]: Done   2 out of   2 | elapsed: 12.8min finished\n"
          ]
        },
        {
          "output_type": "stream",
          "name": "stdout",
          "text": [
            "\n",
            "[0.86163333 0.86273333]\n",
            "\n",
            "XGBClassifier(base_score=0.5, booster='gbtree', colsample_bylevel=1,\n",
            "              colsample_bynode=1, colsample_bytree=1, gamma=0,\n",
            "              learning_rate=0.1, max_delta_step=0, max_depth=3,\n",
            "              min_child_weight=1, missing=None, n_estimators=100, n_jobs=-1,\n",
            "              nthread=None, objective='multi:softprob', random_state=0,\n",
            "              reg_alpha=0, reg_lambda=1, scale_pos_weight=1, seed=None,\n",
            "              silent=None, subsample=1, verbosity=1)\n",
            "\n",
            "              precision    recall  f1-score   support\n",
            "\n",
            "           0       0.80      0.83      0.82      1000\n",
            "           1       0.99      0.96      0.97      1000\n",
            "           2       0.74      0.76      0.75      1000\n",
            "           3       0.85      0.89      0.87      1000\n",
            "           4       0.74      0.78      0.76      1000\n",
            "           5       0.98      0.94      0.96      1000\n",
            "           6       0.67      0.57      0.62      1000\n",
            "           7       0.92      0.94      0.93      1000\n",
            "           8       0.95      0.96      0.96      1000\n",
            "           9       0.93      0.95      0.94      1000\n",
            "\n",
            "    accuracy                           0.86     10000\n",
            "   macro avg       0.86      0.86      0.86     10000\n",
            "weighted avg       0.86      0.86      0.86     10000\n",
            "\n",
            "\n",
            "[[831   0   9  43   8   1  94   0  14   0]\n",
            " [  5 958   4  24   3   0   4   0   2   0]\n",
            " [ 15   1 761   9 138   0  70   0   6   0]\n",
            " [ 25   6  12 894  28   0  33   0   2   0]\n",
            " [  0   1 110  37 780   0  70   0   2   0]\n",
            " [  0   0   0   1   0 940   0  37   2  20]\n",
            " [157   1 124  33  92   0 575   0  18   0]\n",
            " [  0   0   0   0   0  14   0 935   0  51]\n",
            " [  0   1   9   5   6   2  11   4 960   2]\n",
            " [  0   0   0   1   0   7   1  42   1 948]]\n",
            "\n",
            "Execution Time 1523.958059310913 seconds: \n"
          ]
        },
        {
          "output_type": "display_data",
          "data": {
            "image/png": "[encoded data removed]",
            "text/plain": [
              "<Figure size 720x1152 with 1 Axes>"
            ]
          },
          "metadata": {}
        }
      ]
    },
    {
      "cell_type": "code",
      "metadata": {
        "colab": {
          "base_uri": "https://localhost:8080/",
          "height": 1000
        },
        "id": "jjqqy1VPVc-A",
        "outputId": "82fae15e-2e7d-41d6-e020-081c62f42dd1"
      },
      "source": [
        "## How to do Fashion MNIST image classification using KNN in Python\n",
        "\n",
        "def knnB(): \n",
        "\n",
        "    print()\n",
        "    print(format('Fashion MNIST image classification using KNN','*^88'))\n",
        "\n",
        "    import warnings\n",
        "    warnings.filterwarnings(\"ignore\")    \n",
        "\n",
        "    # load libraries\n",
        "    from keras.datasets import fashion_mnist\n",
        "    from sklearn import metrics\n",
        "    import numpy as np\n",
        "    from sklearn.model_selection import cross_val_score    \n",
        "    from sklearn.neighbors import KNeighborsClassifier\n",
        "    import time\n",
        "    start_time = time.time()\n",
        "\n",
        "    # data: shuffled and split between train and test sets\n",
        "    (X_train, y_train), (X_test, y_test) = fashion_mnist.load_data()\n",
        "    # Label names according to label reference\n",
        "    label_name = ['t-shirt/top', 'trouser', 'pullover', 'dress', 'coat',\n",
        "              'sandal', 'shirt', 'sneaker', 'bag', 'ankle-boot']\n",
        "    # X_train is 60000 rows of 28x28 values --> reshaped in 60000 x 784\n",
        "    RESHAPED = 784\n",
        "\n",
        "    X_train = X_train.reshape(60000, RESHAPED)\n",
        "    X_test = X_test.reshape(10000, RESHAPED)\n",
        "    X_train = X_train.astype('float32')\n",
        "    X_test = X_test.astype('float32')\n",
        "\n",
        "    # normalize the datasets\n",
        "    X_train /= 255.\n",
        "    X_test /= 255.\n",
        "\n",
        "    print(X_train.shape[0], 'train samples')\n",
        "    print(X_test.shape[0], 'test samples')\n",
        "    \n",
        "    # fit a KNN model to the data\n",
        "    model = KNeighborsClassifier(n_neighbors=10, metric='minkowski',p=2)\n",
        "    \n",
        "\n",
        "    cv_results = cross_val_score(model, X_train, y_train, \n",
        "                   cv = 2, scoring='accuracy', n_jobs = -1, verbose = 1)    \n",
        "\n",
        "    model.fit(X_train, y_train)\n",
        "    \n",
        "    print(); print(cv_results)    \n",
        "    print(); print(model)\n",
        "\n",
        "    # make predictions\n",
        "    expected_y  = y_test\n",
        "    predicted_y = model.predict(X_test)\n",
        "\n",
        "    # summarize the fit of the model\n",
        "    print(); print(metrics.classification_report(expected_y, predicted_y))\n",
        "    print(); print(metrics.confusion_matrix(expected_y, predicted_y))\n",
        "    mat = confusion_matrix(expected_y, predicted_y)\n",
        "    plt.figure(figsize=(10, 16))\n",
        "    sns.heatmap(mat.T, square=True, annot=True, fmt='d', cbar=False,\n",
        "            xticklabels=label_name,\n",
        "            yticklabels=label_name)\n",
        "    plt.xlabel('true label')\n",
        "    plt.ylabel('predicted label');\n",
        "    print()\n",
        "    print(\"Execution Time %s seconds: \" % (time.time() - start_time))    \n",
        "\n",
        "knnB()"
      ],
      "execution_count": 5,
      "outputs": [
        {
          "output_type": "stream",
          "name": "stdout",
          "text": [
            "\n",
            "**********************Fashion MNIST image classification using KNN**********************\n",
            "60000 train samples\n",
            "10000 test samples\n"
          ]
        },
        {
          "output_type": "stream",
          "name": "stderr",
          "text": [
            "[Parallel(n_jobs=-1)]: Using backend LokyBackend with 2 concurrent workers.\n",
            "[Parallel(n_jobs=-1)]: Done   2 out of   2 | elapsed: 31.7min remaining:    0.0s\n",
            "[Parallel(n_jobs=-1)]: Done   2 out of   2 | elapsed: 31.7min finished\n"
          ]
        },
        {
          "output_type": "stream",
          "name": "stdout",
          "text": [
            "\n",
            "[0.8455     0.84356667]\n",
            "\n",
            "KNeighborsClassifier(algorithm='auto', leaf_size=30, metric='minkowski',\n",
            "                     metric_params=None, n_jobs=None, n_neighbors=10, p=2,\n",
            "                     weights='uniform')\n",
            "\n",
            "              precision    recall  f1-score   support\n",
            "\n",
            "           0       0.77      0.86      0.81      1000\n",
            "           1       0.99      0.96      0.98      1000\n",
            "           2       0.72      0.81      0.76      1000\n",
            "           3       0.91      0.87      0.89      1000\n",
            "           4       0.78      0.76      0.77      1000\n",
            "           5       1.00      0.81      0.89      1000\n",
            "           6       0.64      0.56      0.60      1000\n",
            "           7       0.87      0.97      0.92      1000\n",
            "           8       0.97      0.95      0.96      1000\n",
            "           9       0.89      0.96      0.93      1000\n",
            "\n",
            "    accuracy                           0.85     10000\n",
            "   macro avg       0.85      0.85      0.85     10000\n",
            "weighted avg       0.85      0.85      0.85     10000\n",
            "\n",
            "\n",
            "[[863   0  20  19   5   0  84   1   8   0]\n",
            " [  8 964   6  13   4   0   4   0   1   0]\n",
            " [ 21   2 813   7  82   0  74   0   1   0]\n",
            " [ 37   4  14 871  37   0  35   0   2   0]\n",
            " [  1   0 128  25 755   0  90   0   1   0]\n",
            " [  1   0   0   1   0 807   5 100   2  84]\n",
            " [195   0 135  22  76   0 560   0  12   0]\n",
            " [  0   0   0   0   0   2   0 969   0  29]\n",
            " [  1   1  14   3   8   0  16   6 949   2]\n",
            " [  0   0   0   0   0   1   1  34   0 964]]\n",
            "\n",
            "Execution Time 2901.3666846752167 seconds: \n"
          ]
        },
        {
          "output_type": "display_data",
          "data": {
            "image/png": "[encoded data removed]",
            "text/plain": [
              "<Figure size 720x1152 with 1 Axes>"
            ]
          },
          "metadata": {}
        }
      ]
    },
    {
      "cell_type": "markdown",
      "metadata": {
        "id": "Z6a1COjrb46h"
      },
      "source": [
        "## AutoML Failed Test"
      ]
    },
    {
      "cell_type": "code",
      "metadata": {
        "id": "GNROot45adhm"
      },
      "source": [
        "# define dataset\n",
        "(X_train, y_train), (X_test, y_test) = fashion_mnist.load_data()\n",
        "# Label names according to label reference\n",
        "label_name = ['t-shirt/top', 'trouser', 'pullover', 'dress', 'coat',\n",
        "              'sandal', 'shirt', 'sneaker', 'bag', 'ankle-boot']\n",
        "# X_train is 60000 rows of 28x28 values --> reshaped in 60000 x 784\n",
        "RESHAPED = 784\n",
        "\n",
        "X_train = X_train.reshape(60000, RESHAPED)\n",
        "X_test = X_test.reshape(10000, RESHAPED)\n",
        "X_train = X_train.astype('float32')\n",
        "X_test = X_test.astype('float32')\n",
        "\n",
        "# normalize the datasets\n",
        "X_train /= 255.\n",
        "X_test /= 255.\n"
      ],
      "execution_count": 9,
      "outputs": []
    },
    {
      "cell_type": "code",
      "metadata": {
        "colab": {
          "base_uri": "https://localhost:8080/"
        },
        "id": "aBw-T27taJlc",
        "outputId": "c849d8a1-4032-471b-b3cf-2fa3ff41e9a1"
      },
      "source": [
        "import autosklearn as ask\n",
        "#ask.regression.AutoSklearnRegressor() for regression tasks\n",
        "model = ask.classification.AutoSklearnClassifier(ensemble_size=10, #size of the end ensemble (minimum is 1)\n",
        "                                                 time_left_for_this_task=620, #the number of seconds the process runs for\n",
        "                                                 per_run_time_limit=30) #maximum seconds allocated per model\n",
        "model.fit(X_train, y_train) #begin fitting the search model\n",
        "print(model.sprint_statistics()) #print statistics for the search\n",
        "y_predictions = model.predict(X_test) #get predictions from the model"
      ],
      "execution_count": 14,
      "outputs": [
        {
          "output_type": "stream",
          "name": "stdout",
          "text": [
            "auto-sklearn results:\n",
            "  Dataset name: 82fcfe2e-0c5c-11ec-80cc-0242ac1c0002\n",
            "  Metric: accuracy\n",
            "  Number of target algorithm runs: 93\n",
            "  Number of successful target algorithm runs: 0\n",
            "  Number of crashed target algorithm runs: 0\n",
            "  Number of target algorithms that exceeded the time limit: 1\n",
            "  Number of target algorithms that exceeded the memory limit: 92\n",
            "\n"
          ]
        }
      ]
    },
    {
      "cell_type": "code",
      "metadata": {
        "colab": {
          "base_uri": "https://localhost:8080/"
        },
        "id": "efvrbWcvbHlE",
        "outputId": "815cc9df-310c-4137-c677-2fded4153024"
      },
      "source": [
        "from sklearn.metrics import accuracy_score\n",
        "acc = accuracy_score(y_test, y_predictions)\n",
        "print(\"Accuracy: %.3f\" % acc)"
      ],
      "execution_count": 15,
      "outputs": [
        {
          "output_type": "stream",
          "name": "stdout",
          "text": [
            "Accuracy: 0.100\n"
          ]
        }
      ]
    },
    {
      "cell_type": "markdown",
      "metadata": {
        "id": "SvbMyml-e-av"
      },
      "source": [
        "## Pytorch"
      ]
    },
    {
      "cell_type": "code",
      "metadata": {
        "id": "0zwkqG1ce8xn"
      },
      "source": [
        "import torch\n",
        "import torch.nn as nn\n",
        "import torch.nn.functional as F\n",
        "import torchvision\n",
        "import torchvision.transforms as transforms\n",
        "\n",
        "\n",
        "import matplotlib.pyplot as plt\n",
        "import numpy as np"
      ],
      "execution_count": 2,
      "outputs": []
    },
    {
      "cell_type": "code",
      "metadata": {
        "colab": {
          "base_uri": "https://localhost:8080/"
        },
        "id": "9v7XKMJzfC9X",
        "outputId": "2009a5fc-9aee-4819-c0d8-a041850a4913"
      },
      "source": [
        "# DECLARE SOME BASIC HYPER-PARAMETERS\n",
        "\n",
        "n_epochs = 50\n",
        "batch_size_train = 64\n",
        "batch_size_test = 1000\n",
        "learning_rate = 0.01\n",
        "momentum = 0.5\n",
        "log_interval = 10\n",
        "\n",
        "random_seed = 1\n",
        "torch.backends.cudnn.enabled = False\n",
        "torch.manual_seed(random_seed)"
      ],
      "execution_count": 3,
      "outputs": [
        {
          "output_type": "execute_result",
          "data": {
            "text/plain": [
              "<torch._C.Generator at 0x7f7159025cd0>"
            ]
          },
          "metadata": {},
          "execution_count": 3
        }
      ]
    },
    {
      "cell_type": "code",
      "metadata": {
        "colab": {
          "base_uri": "https://localhost:8080/",
          "height": 471,
          "referenced_widgets": [
            "09d5ceab39974f539963be7093f94815",
            "988764d30f514a8188013a5583fee55f",
            "c8f8b81eb0a94034b1e1edba79588437",
            "c688381366fb4d08937538c5992144c4",
            "f31428f9a2184b1ca778022b9c1810bf",
            "8b25d75b639d439fa97a455e40663525",
            "f2ec9c3022a14a73b1afd028f335ad17",
            "53c1de9a76cb47939af7c91c883c9e62",
            "cb57951849974b12818bbcbc777e7ed5",
            "5d4a24a5e1824a72883bf780e2d15646",
            "7299497593b1465fb03a3318e25eba15",
            "9c988f3c89e64b68b0f6fc6de1b35ab4",
            "73f5dcb2e65740e7afd55d0797457908",
            "2aff7fb70c4d4654a86e4b481ed732f8",
            "2d3a59c4e72e41a39aeb6857f8a8c6d4",
            "b13750bf31d2448083033b10a774d64a",
            "2763fa306ca74872b4724a20a14e98ef",
            "b6c2a87532ed4b32bd62bc699b56122e",
            "391053f9c23d4452b0e0b77216480cc5",
            "4235346f786e4ffb93f604c47be0f187",
            "ec7120046e054fc4890854db706bc5af",
            "028126f0dfe046018c90da88a6216cfd",
            "12c8edb959a54928ba96649d90c23d83",
            "d2a8940a1c98456292723b44a490a7fd",
            "a2238e9afeaf4762ae793b8039b05c57",
            "4f243cb9a3ff40f6881b64853d2c5d93",
            "26232063d1124d02ad6ecc6ec6907c2c",
            "1fdc80ca0eee4c6fbbc45fa783f74f01",
            "7149b341587642cfa024250e4466a263",
            "c20088f3c2114af2afb4e20bc8599fa2",
            "d18a655977934447886824ac2eb68032",
            "0a55e8dec77545c4bfaca8380b35ff30",
            "61962258e45a48b2910b19560759b30e",
            "de5f0a4a5507476bb417a808463b762c",
            "a5ea787ea2d442d19047ab8428b1cb67",
            "b6c99de3c7974f1887ea3f7498e16e1e",
            "ce9796ac60864416a6947f7eeb268328",
            "3a4e6d3e45914f5b9609306558b499b1",
            "4f030e99aaf847668ba7444b909ca622",
            "7c7cd5e3ae1a4474b1fa91179233e97b",
            "0c8b3f733b8c483698ebb4e15812582e",
            "00d3d5a52fd441428b1508d40454b904",
            "4843256093074cbb879ca1e546baf367",
            "c4f407b46ba34af88ddb07cab94b4f7b"
          ]
        },
        "id": "2QvST6bFf-_1",
        "outputId": "1615ce1b-d8d4-43a5-f6a3-7d87da4c3f2d"
      },
      "source": [
        "BATCH_SIZE = 128\n",
        "\n",
        "## transformations\n",
        "transform = transforms.Compose(\n",
        "    [transforms.ToTensor()])\n",
        "\n",
        "## download and load training dataset\n",
        "trainset = torchvision.datasets.FashionMNIST(root='./data', train=True,\n",
        "                                        download=True, transform=transform)\n",
        "trainloader = torch.utils.data.DataLoader(trainset, batch_size=BATCH_SIZE,\n",
        "                                          shuffle=True, num_workers=2)\n",
        "\n",
        "## download and load testing dataset\n",
        "testset = torchvision.datasets.FashionMNIST(root='./data', train=False,\n",
        "                                       download=True, transform=transform)\n",
        "testloader = torch.utils.data.DataLoader(testset, batch_size=BATCH_SIZE,\n",
        "                                         shuffle=False, num_workers=2)"
      ],
      "execution_count": 4,
      "outputs": [
        {
          "output_type": "stream",
          "name": "stdout",
          "text": [
            "Downloading http://fashion-mnist.s3-website.eu-central-1.amazonaws.com/train-images-idx3-ubyte.gz\n",
            "Downloading http://fashion-mnist.s3-website.eu-central-1.amazonaws.com/train-images-idx3-ubyte.gz to ./data/FashionMNIST/raw/train-images-idx3-ubyte.gz\n"
          ]
        },
        {
          "output_type": "display_data",
          "data": {
            "application/vnd.jupyter.widget-view+json": {
              "model_id": "09d5ceab39974f539963be7093f94815",
              "version_minor": 0,
              "version_major": 2
            },
            "text/plain": [
              "  0%|          | 0/26421880 [00:00<?, ?it/s]"
            ]
          },
          "metadata": {}
        },
        {
          "output_type": "stream",
          "name": "stdout",
          "text": [
            "Extracting ./data/FashionMNIST/raw/train-images-idx3-ubyte.gz to ./data/FashionMNIST/raw\n",
            "\n",
            "Downloading http://fashion-mnist.s3-website.eu-central-1.amazonaws.com/train-labels-idx1-ubyte.gz\n",
            "Downloading http://fashion-mnist.s3-website.eu-central-1.amazonaws.com/train-labels-idx1-ubyte.gz to ./data/FashionMNIST/raw/train-labels-idx1-ubyte.gz\n"
          ]
        },
        {
          "output_type": "display_data",
          "data": {
            "application/vnd.jupyter.widget-view+json": {
              "model_id": "9c988f3c89e64b68b0f6fc6de1b35ab4",
              "version_minor": 0,
              "version_major": 2
            },
            "text/plain": [
              "  0%|          | 0/29515 [00:00<?, ?it/s]"
            ]
          },
          "metadata": {}
        },
        {
          "output_type": "stream",
          "name": "stdout",
          "text": [
            "Extracting ./data/FashionMNIST/raw/train-labels-idx1-ubyte.gz to ./data/FashionMNIST/raw\n",
            "\n",
            "Downloading http://fashion-mnist.s3-website.eu-central-1.amazonaws.com/t10k-images-idx3-ubyte.gz\n",
            "Downloading http://fashion-mnist.s3-website.eu-central-1.amazonaws.com/t10k-images-idx3-ubyte.gz to ./data/FashionMNIST/raw/t10k-images-idx3-ubyte.gz\n"
          ]
        },
        {
          "output_type": "display_data",
          "data": {
            "application/vnd.jupyter.widget-view+json": {
              "model_id": "12c8edb959a54928ba96649d90c23d83",
              "version_minor": 0,
              "version_major": 2
            },
            "text/plain": [
              "  0%|          | 0/4422102 [00:00<?, ?it/s]"
            ]
          },
          "metadata": {}
        },
        {
          "output_type": "stream",
          "name": "stdout",
          "text": [
            "Extracting ./data/FashionMNIST/raw/t10k-images-idx3-ubyte.gz to ./data/FashionMNIST/raw\n",
            "\n",
            "Downloading http://fashion-mnist.s3-website.eu-central-1.amazonaws.com/t10k-labels-idx1-ubyte.gz\n",
            "Downloading http://fashion-mnist.s3-website.eu-central-1.amazonaws.com/t10k-labels-idx1-ubyte.gz to ./data/FashionMNIST/raw/t10k-labels-idx1-ubyte.gz\n"
          ]
        },
        {
          "output_type": "display_data",
          "data": {
            "application/vnd.jupyter.widget-view+json": {
              "model_id": "de5f0a4a5507476bb417a808463b762c",
              "version_minor": 0,
              "version_major": 2
            },
            "text/plain": [
              "  0%|          | 0/5148 [00:00<?, ?it/s]"
            ]
          },
          "metadata": {}
        },
        {
          "output_type": "stream",
          "name": "stdout",
          "text": [
            "Extracting ./data/FashionMNIST/raw/t10k-labels-idx1-ubyte.gz to ./data/FashionMNIST/raw\n",
            "\n"
          ]
        },
        {
          "output_type": "stream",
          "name": "stderr",
          "text": [
            "/usr/local/lib/python3.7/dist-packages/torchvision/datasets/mnist.py:498: UserWarning: The given NumPy array is not writeable, and PyTorch does not support non-writeable tensors. This means you can write to the underlying (supposedly non-writeable) NumPy array using the tensor. You may want to copy the array to protect its data or make it writeable before converting it to a tensor. This type of warning will be suppressed for the rest of this program. (Triggered internally at  /pytorch/torch/csrc/utils/tensor_numpy.cpp:180.)\n",
            "  return torch.from_numpy(parsed.astype(m[2], copy=False)).view(*s)\n"
          ]
        }
      ]
    },
    {
      "cell_type": "code",
      "metadata": {
        "colab": {
          "base_uri": "https://localhost:8080/",
          "height": 272
        },
        "id": "6U9CIR1qf25C",
        "outputId": "0e835932-4b81-4d0c-d823-e9739bcb49ec"
      },
      "source": [
        "# EXPLORE - WHAT DOES THE DATA LOOK LIKE?\n",
        "\n",
        "def imshow(img):\n",
        "    #img = img / 2 + 0.5     # unnormalize\n",
        "    npimg = img.numpy()\n",
        "    plt.imshow(np.transpose(npimg, (1, 2, 0)))\n",
        "\n",
        "## get some random training images\n",
        "dataiter = iter(trainloader)\n",
        "images, labels = dataiter.next()\n",
        "\n",
        "## show images\n",
        "imshow(torchvision.utils.make_grid(images))"
      ],
      "execution_count": 5,
      "outputs": [
        {
          "output_type": "display_data",
          "data": {
            "image/png": "[encoded data removed]",
            "text/plain": [
              "<Figure size 432x288 with 1 Axes>"
            ]
          },
          "metadata": {
            "needs_background": "light"
          }
        }
      ]
    },
    {
      "cell_type": "code",
      "metadata": {
        "colab": {
          "base_uri": "https://localhost:8080/"
        },
        "id": "o9epwyBmgJUq",
        "outputId": "53a01d93-71bc-4ea5-c734-02b9ed939765"
      },
      "source": [
        "# EXPLORE - WHAT ARE THE DIMENSIONS OF OUR DATA\n",
        "\n",
        "for images, labels in trainloader:\n",
        "    print(\"Image batch dimensions:\", images.shape)\n",
        "    print(\"Image label dimensions:\", labels.shape)\n",
        "    break"
      ],
      "execution_count": 6,
      "outputs": [
        {
          "output_type": "stream",
          "name": "stdout",
          "text": [
            "Image batch dimensions: torch.Size([128, 1, 28, 28])\n",
            "Image label dimensions: torch.Size([128])\n"
          ]
        }
      ]
    },
    {
      "cell_type": "code",
      "metadata": {
        "id": "xmI2DEcBgL8u"
      },
      "source": [
        "# MODEL - BUILD THE MODEL - KEY IN ON DIMENSIONS OF EACH LAYER - MORE AVAILABLE:\n",
        "# https://pytorch.org/docs/stable/nn.html?highlight=linear#conv2d\n",
        "\n",
        "class MyModel(nn.Module):\n",
        "    def __init__(self):\n",
        "        super(MyModel, self).__init__()\n",
        "\n",
        "        # 28x28x1 => 26x26x32\n",
        "        self.conv1 = nn.Conv2d(in_channels=1, out_channels=32, kernel_size=3)\n",
        "        self.d1 = nn.Linear(26 * 26 * 32, 128)\n",
        "        self.d2 = nn.Linear(128, 10)\n",
        "\n",
        "    def forward(self, x):\n",
        "        # 32x1x28x28 => 32x32x26x26\n",
        "        x = self.conv1(x)\n",
        "        x = F.relu(x)\n",
        "\n",
        "        # flatten => 32 x (32*26*26)\n",
        "        x = x.flatten(start_dim = 1)\n",
        "\n",
        "        # 32 x (32*26*26) => 32x128\n",
        "        x = self.d1(x)\n",
        "        x = F.relu(x)\n",
        "\n",
        "        # logits => 32x10\n",
        "        logits = self.d2(x)\n",
        "        out = F.softmax(logits, dim=1)\n",
        "        return out"
      ],
      "execution_count": 7,
      "outputs": []
    },
    {
      "cell_type": "code",
      "metadata": {
        "colab": {
          "base_uri": "https://localhost:8080/"
        },
        "id": "qmUGEDwCgN1B",
        "outputId": "b91150eb-64c1-49dc-8b95-9ddc991eabfa"
      },
      "source": [
        "model = MyModel()\n",
        "for images, labels in trainloader:\n",
        "    print(\"batch size:\", images.shape)\n",
        "    out = model(images)\n",
        "    print(out.shape)\n",
        "    break"
      ],
      "execution_count": 8,
      "outputs": [
        {
          "output_type": "stream",
          "name": "stdout",
          "text": [
            "batch size: torch.Size([128, 1, 28, 28])\n",
            "torch.Size([128, 10])\n"
          ]
        }
      ]
    },
    {
      "cell_type": "code",
      "metadata": {
        "id": "Skj0o762gPqz"
      },
      "source": [
        "learning_rate = 0.001\n",
        "num_epochs = 50\n",
        "\n",
        "device = torch.device(\"cuda:0\" if torch.cuda.is_available() else \"cpu\")\n",
        "model = MyModel()\n",
        "model = model.to(device)\n",
        "criterion = nn.CrossEntropyLoss()\n",
        "optimizer = torch.optim.Adam(model.parameters(), lr=learning_rate)\n",
        "\n",
        "## compute accuracy\n",
        "def get_accuracy(logit, target, batch_size):\n",
        "    ''' Obtain accuracy for training round '''\n",
        "    corrects = (torch.max(logit, 1)[1].view(target.size()).data == target.data).sum()\n",
        "    accuracy = 100.0 * corrects/batch_size\n",
        "    return accuracy.item()"
      ],
      "execution_count": 9,
      "outputs": []
    },
    {
      "cell_type": "code",
      "metadata": {
        "colab": {
          "base_uri": "https://localhost:8080/"
        },
        "id": "NYpm4-NygScw",
        "outputId": "ba33f795-ebc4-47ea-d653-d9a522604ab1"
      },
      "source": [
        "%timeit\n",
        "for epoch in range(num_epochs):\n",
        "    train_running_loss = 0.0\n",
        "    train_acc = 0.0\n",
        "\n",
        "    model = model.train()\n",
        "\n",
        "    ## training step\n",
        "    for i, (images, labels) in enumerate(trainloader):\n",
        "        \n",
        "        images = images.to(device)\n",
        "        labels = labels.to(device)\n",
        "\n",
        "        ## forward + backprop + loss\n",
        "        logits = model(images)\n",
        "        loss = criterion(logits, labels)\n",
        "        optimizer.zero_grad()\n",
        "        loss.backward()\n",
        "\n",
        "        ## update model params\n",
        "        optimizer.step()\n",
        "\n",
        "        train_running_loss += loss.detach().item()\n",
        "        train_acc += get_accuracy(logits, labels, BATCH_SIZE)\n",
        "    \n",
        "    model.eval()\n",
        "    print('Epoch: %d | Loss: %.4f | Train Accuracy: %.2f' \\\n",
        "          %(epoch, train_running_loss / i, train_acc/i)) \n",
        "    \n",
        "print"
      ],
      "execution_count": 10,
      "outputs": [
        {
          "output_type": "stream",
          "name": "stdout",
          "text": [
            "Epoch: 0 | Loss: 1.7925 | Train Accuracy: 67.62\n",
            "Epoch: 1 | Loss: 1.6904 | Train Accuracy: 77.75\n",
            "Epoch: 2 | Loss: 1.6495 | Train Accuracy: 81.83\n",
            "Epoch: 3 | Loss: 1.6411 | Train Accuracy: 82.56\n",
            "Epoch: 4 | Loss: 1.6183 | Train Accuracy: 84.92\n",
            "Epoch: 5 | Loss: 1.5656 | Train Accuracy: 90.23\n",
            "Epoch: 6 | Loss: 1.5564 | Train Accuracy: 91.08\n",
            "Epoch: 7 | Loss: 1.5479 | Train Accuracy: 91.99\n",
            "Epoch: 8 | Loss: 1.5415 | Train Accuracy: 92.67\n",
            "Epoch: 9 | Loss: 1.5362 | Train Accuracy: 93.18\n",
            "Epoch: 10 | Loss: 1.5326 | Train Accuracy: 93.48\n",
            "Epoch: 11 | Loss: 1.5280 | Train Accuracy: 93.94\n",
            "Epoch: 12 | Loss: 1.5247 | Train Accuracy: 94.27\n",
            "Epoch: 13 | Loss: 1.5210 | Train Accuracy: 94.64\n",
            "Epoch: 14 | Loss: 1.5183 | Train Accuracy: 94.92\n",
            "Epoch: 15 | Loss: 1.5167 | Train Accuracy: 95.07\n",
            "Epoch: 16 | Loss: 1.5136 | Train Accuracy: 95.35\n",
            "Epoch: 17 | Loss: 1.5120 | Train Accuracy: 95.51\n",
            "Epoch: 18 | Loss: 1.5096 | Train Accuracy: 95.73\n",
            "Epoch: 19 | Loss: 1.5083 | Train Accuracy: 95.90\n",
            "Epoch: 20 | Loss: 1.5072 | Train Accuracy: 95.96\n",
            "Epoch: 21 | Loss: 1.5049 | Train Accuracy: 96.19\n",
            "Epoch: 22 | Loss: 1.5040 | Train Accuracy: 96.29\n",
            "Epoch: 23 | Loss: 1.5029 | Train Accuracy: 96.42\n",
            "Epoch: 24 | Loss: 1.5020 | Train Accuracy: 96.49\n",
            "Epoch: 25 | Loss: 1.5005 | Train Accuracy: 96.62\n",
            "Epoch: 26 | Loss: 1.4997 | Train Accuracy: 96.71\n",
            "Epoch: 27 | Loss: 1.4986 | Train Accuracy: 96.79\n",
            "Epoch: 28 | Loss: 1.4984 | Train Accuracy: 96.82\n",
            "Epoch: 29 | Loss: 1.4988 | Train Accuracy: 96.78\n",
            "Epoch: 30 | Loss: 1.4973 | Train Accuracy: 96.92\n",
            "Epoch: 31 | Loss: 1.4978 | Train Accuracy: 96.86\n",
            "Epoch: 32 | Loss: 1.4964 | Train Accuracy: 97.01\n",
            "Epoch: 33 | Loss: 1.4965 | Train Accuracy: 97.00\n",
            "Epoch: 34 | Loss: 1.4951 | Train Accuracy: 97.13\n",
            "Epoch: 35 | Loss: 1.4951 | Train Accuracy: 97.15\n",
            "Epoch: 36 | Loss: 1.4942 | Train Accuracy: 97.22\n",
            "Epoch: 37 | Loss: 1.4939 | Train Accuracy: 97.24\n",
            "Epoch: 38 | Loss: 1.4948 | Train Accuracy: 97.16\n",
            "Epoch: 39 | Loss: 1.4927 | Train Accuracy: 97.37\n",
            "Epoch: 40 | Loss: 1.4923 | Train Accuracy: 97.40\n",
            "Epoch: 41 | Loss: 1.4931 | Train Accuracy: 97.32\n",
            "Epoch: 42 | Loss: 1.4924 | Train Accuracy: 97.38\n",
            "Epoch: 43 | Loss: 1.4926 | Train Accuracy: 97.37\n",
            "Epoch: 44 | Loss: 1.4917 | Train Accuracy: 97.46\n",
            "Epoch: 45 | Loss: 1.4924 | Train Accuracy: 97.39\n",
            "Epoch: 46 | Loss: 1.4910 | Train Accuracy: 97.53\n",
            "Epoch: 47 | Loss: 1.4906 | Train Accuracy: 97.55\n",
            "Epoch: 48 | Loss: 1.4905 | Train Accuracy: 97.57\n",
            "Epoch: 49 | Loss: 1.4912 | Train Accuracy: 97.51\n"
          ]
        },
        {
          "output_type": "execute_result",
          "data": {
            "text/plain": [
              "<function print>"
            ]
          },
          "metadata": {},
          "execution_count": 10
        }
      ]
    },
    {
      "cell_type": "code",
      "metadata": {
        "colab": {
          "base_uri": "https://localhost:8080/"
        },
        "id": "qZKtWtU3gUyy",
        "outputId": "faa6622f-a1e4-48ea-91e7-0f3e3785e078"
      },
      "source": [
        "# INTERPRET - HOW DID WE DO ON TEST SET\n",
        "\n",
        "test_acc = 0.0\n",
        "for i, (images, labels) in enumerate(testloader, 0):\n",
        "    images = images.to(device)\n",
        "    labels = labels.to(device)\n",
        "    outputs = model(images)\n",
        "    test_acc += get_accuracy(outputs, labels, BATCH_SIZE)\n",
        "        \n",
        "print('Test Accuracy: %.2f'%( test_acc/i))"
      ],
      "execution_count": 11,
      "outputs": [
        {
          "output_type": "stream",
          "name": "stdout",
          "text": [
            "Test Accuracy: 91.54\n"
          ]
        }
      ]
    }
  ]
}